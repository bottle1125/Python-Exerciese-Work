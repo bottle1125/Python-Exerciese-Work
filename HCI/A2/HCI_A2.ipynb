{
 "cells": [
  {
   "cell_type": "markdown",
   "metadata": {},
   "source": [
    "# Introduction to Computational Modeling in HCI"
   ]
  },
  {
   "cell_type": "code",
   "execution_count": 1,
   "metadata": {},
   "outputs": [],
   "source": [
    "import matplotlib.pyplot as plt\n",
    "import math\n",
    "import numpy\n",
    "numpy.set_printoptions(precision =2)\n",
    "import scipy.stats as stats\n",
    "import statsmodels.api as sm\n",
    "import pandas as pd\n",
    "import random"
   ]
  },
  {
   "cell_type": "markdown",
   "metadata": {},
   "source": [
    "## Task 1 Define our keyboard"
   ]
  },
  {
   "cell_type": "code",
   "execution_count": 2,
   "metadata": {},
   "outputs": [],
   "source": [
    "## Define our keyboard\n",
    "\n",
    "line1 = 'qwertyuiop'\n",
    "line2 = 'asdfghjkl'\n",
    "line3 = 'zxcvbnm'\n",
    "\n",
    "### Define a keyboard as a list of keys. Each key also mentions its position in the keyboard (line number, column number)\n",
    "keyboard  = [(i, (0,ni)) for ni,i in enumerate(line1)] + [(i, (1,ni)) for ni,i in enumerate(line2)] + [(i, (2,ni)) for ni,i in enumerate(line3)]\n",
    "\n",
    "\n",
    "### Define empty matrices to hold the results\n",
    "ids = numpy.zeros((26,26))\n",
    "Ds = numpy.zeros((26,26))\n",
    "W = 1\n",
    "\n",
    "alphabet = line1 + line2 + line3\n",
    "keyboard_list = []\n",
    "\n",
    "### Get Ids for each key combination\n",
    "for ns,keystart in enumerate(alphabet):\n",
    "    keyboard_list.append(keystart)\n",
    "    for ne, keyend in enumerate(alphabet):\n",
    "        \n",
    "        xs,ys, xe,ye = keyboard[ns][1][1] + 2/5*keyboard[ns][1][0], keyboard[ns][1][0], keyboard[ne][1][1] + 2/5*keyboard[ne][1][0], keyboard[ne][1][0]\n",
    "        ## Compute euclidian distance between the startkey and endkey\n",
    "        D = math.sqrt((xe - xs)**2 + (ye - ys)**2)\n",
    "        Ds[ns,ne] = D\n",
    "        ## Use Fitts' law formula\n",
    "        ids[ns,ne] = math.log2(1 + (D / W))\n",
    "\n",
    "### This function can be used to print out an array in a form suited for a LaTex table. You can adapt it to print out the array in a different format if needed.\n",
    "\n",
    "def bmatrix(a):\n",
    "    text = r'$\\left[\\begin{array}{*{'\n",
    "    text += str(len(a[0]))\n",
    "    text += r'}c}'\n",
    "    text += '\\n'\n",
    "    for x in range(len(a)):\n",
    "        for y in range(len(a[x])):\n",
    "            text += '{:.2f}'.format(a[x][y])\n",
    "            text += r' & '\n",
    "        text = text[:-2]\n",
    "        text += r'\\\\'\n",
    "        text += '\\n'\n",
    "    text += r'\\end{array}\\right]$'\n",
    "    print(text)    \n",
    "    "
   ]
  },
  {
   "cell_type": "code",
   "execution_count": 3,
   "metadata": {},
   "outputs": [
    {
     "name": "stdout",
     "output_type": "stream",
     "text": [
      "          q         w         e         r         t         y         u  \\\n",
      "q  0.000000  1.000000  1.584963  2.000000  2.321928  2.584963  2.807355   \n",
      "w  1.000000  0.000000  1.000000  1.584963  2.000000  2.321928  2.584963   \n",
      "e  1.584963  1.000000  0.000000  1.000000  1.584963  2.000000  2.321928   \n",
      "r  2.000000  1.584963  1.000000  0.000000  1.000000  1.584963  2.000000   \n",
      "t  2.321928  2.000000  1.584963  1.000000  0.000000  1.000000  1.584963   \n",
      "y  2.584963  2.321928  2.000000  1.584963  1.000000  0.000000  1.000000   \n",
      "u  2.807355  2.584963  2.321928  2.000000  1.584963  1.000000  0.000000   \n",
      "i  3.000000  2.807355  2.584963  2.321928  2.000000  1.584963  1.000000   \n",
      "o  3.169925  3.000000  2.807355  2.584963  2.321928  2.000000  1.584963   \n",
      "p  3.321928  3.169925  3.000000  2.807355  2.584963  2.321928  2.000000   \n",
      "a  1.054524  1.115160  1.529469  1.920552  2.243763  2.512844  2.741701   \n",
      "s  1.443853  1.054524  1.115160  1.529469  1.920552  2.243763  2.512844   \n",
      "d  1.847997  1.443853  1.054524  1.115160  1.529469  1.920552  2.243763   \n",
      "f  2.183966  1.847997  1.443853  1.054524  1.115160  1.529469  1.920552   \n",
      "g  2.462630  2.183966  1.847997  1.443853  1.054524  1.115160  1.529469   \n",
      "h  2.698621  2.462630  2.183966  1.847997  1.443853  1.054524  1.115160   \n",
      "j  2.902586  2.698621  2.462630  2.183966  1.847997  1.443853  1.054524   \n",
      "k  3.081896  2.902586  2.698621  2.462630  2.183966  1.847997  1.443853   \n",
      "l  3.241736  3.081896  2.902586  2.698621  2.462630  2.183966  1.847997   \n",
      "z  1.657213  1.589752  1.736553  1.990306  2.255075  2.498731  2.716191   \n",
      "x  1.883904  1.657213  1.589752  1.736553  1.990306  2.255075  2.498731   \n",
      "c  2.150862  1.883904  1.657213  1.589752  1.736553  1.990306  2.255075   \n",
      "v  2.404408  2.150862  1.883904  1.657213  1.589752  1.736553  1.990306   \n",
      "b  2.632268  2.404408  2.150862  1.883904  1.657213  1.589752  1.736553   \n",
      "n  2.834943  2.632268  2.404408  2.150862  1.883904  1.657213  1.589752   \n",
      "m  3.015786  2.834943  2.632268  2.404408  2.150862  1.883904  1.657213   \n",
      "\n",
      "          i         o         p  ...         j         k         l         z  \\\n",
      "q  3.000000  3.169925  3.321928  ...  2.902586  3.081896  3.241736  1.657213   \n",
      "w  2.807355  3.000000  3.169925  ...  2.698621  2.902586  3.081896  1.589752   \n",
      "e  2.584963  2.807355  3.000000  ...  2.462630  2.698621  2.902586  1.736553   \n",
      "r  2.321928  2.584963  2.807355  ...  2.183966  2.462630  2.698621  1.990306   \n",
      "t  2.000000  2.321928  2.584963  ...  1.847997  2.183966  2.462630  2.255075   \n",
      "y  1.584963  2.000000  2.321928  ...  1.443853  1.847997  2.183966  2.498731   \n",
      "u  1.000000  1.584963  2.000000  ...  1.054524  1.443853  1.847997  2.716191   \n",
      "i  0.000000  1.000000  1.584963  ...  1.115160  1.054524  1.443853  2.909696   \n",
      "o  1.000000  0.000000  1.000000  ...  1.529469  1.115160  1.054524  3.082808   \n",
      "p  1.584963  1.000000  0.000000  ...  1.920552  1.529469  1.115160  3.238845   \n",
      "a  2.940228  3.115284  3.271716  ...  2.807355  3.000000  3.169925  1.054524   \n",
      "s  2.741701  2.940228  3.115284  ...  2.584963  2.807355  3.000000  1.115160   \n",
      "d  2.512844  2.741701  2.940228  ...  2.321928  2.584963  2.807355  1.529469   \n",
      "f  2.243763  2.512844  2.741701  ...  2.000000  2.321928  2.584963  1.920552   \n",
      "g  1.920552  2.243763  2.512844  ...  1.584963  2.000000  2.321928  2.243763   \n",
      "h  1.529469  1.920552  2.243763  ...  1.000000  1.584963  2.000000  2.512844   \n",
      "j  1.115160  1.529469  1.920552  ...  0.000000  1.000000  1.584963  2.741701   \n",
      "k  1.054524  1.115160  1.529469  ...  1.000000  0.000000  1.000000  2.940228   \n",
      "l  1.443853  1.054524  1.115160  ...  1.584963  1.000000  0.000000  3.115284   \n",
      "z  2.909696  3.082808  3.238845  ...  2.741701  2.940228  3.115284  0.000000   \n",
      "x  2.716191  2.909696  3.082808  ...  2.512844  2.741701  2.940228  1.000000   \n",
      "c  2.498731  2.716191  2.909696  ...  2.243763  2.512844  2.741701  1.584963   \n",
      "v  2.255075  2.498731  2.716191  ...  1.920552  2.243763  2.512844  2.000000   \n",
      "b  1.990306  2.255075  2.498731  ...  1.529469  1.920552  2.243763  2.321928   \n",
      "n  1.736553  1.990306  2.255075  ...  1.115160  1.529469  1.920552  2.584963   \n",
      "m  1.589752  1.736553  1.990306  ...  1.054524  1.115160  1.529469  2.807355   \n",
      "\n",
      "          x         c         v         b         n         m  \n",
      "q  1.883904  2.150862  2.404408  2.632268  2.834943  3.015786  \n",
      "w  1.657213  1.883904  2.150862  2.404408  2.632268  2.834943  \n",
      "e  1.589752  1.657213  1.883904  2.150862  2.404408  2.632268  \n",
      "r  1.736553  1.589752  1.657213  1.883904  2.150862  2.404408  \n",
      "t  1.990306  1.736553  1.589752  1.657213  1.883904  2.150862  \n",
      "y  2.255075  1.990306  1.736553  1.589752  1.657213  1.883904  \n",
      "u  2.498731  2.255075  1.990306  1.736553  1.589752  1.657213  \n",
      "i  2.716191  2.498731  2.255075  1.990306  1.736553  1.589752  \n",
      "o  2.909696  2.716191  2.498731  2.255075  1.990306  1.736553  \n",
      "p  3.082808  2.909696  2.716191  2.498731  2.255075  1.990306  \n",
      "a  1.443853  1.847997  2.183966  2.462630  2.698621  2.902586  \n",
      "s  1.054524  1.443853  1.847997  2.183966  2.462630  2.698621  \n",
      "d  1.115160  1.054524  1.443853  1.847997  2.183966  2.462630  \n",
      "f  1.529469  1.115160  1.054524  1.443853  1.847997  2.183966  \n",
      "g  1.920552  1.529469  1.115160  1.054524  1.443853  1.847997  \n",
      "h  2.243763  1.920552  1.529469  1.115160  1.054524  1.443853  \n",
      "j  2.512844  2.243763  1.920552  1.529469  1.115160  1.054524  \n",
      "k  2.741701  2.512844  2.243763  1.920552  1.529469  1.115160  \n",
      "l  2.940228  2.741701  2.512844  2.243763  1.920552  1.529469  \n",
      "z  1.000000  1.584963  2.000000  2.321928  2.584963  2.807355  \n",
      "x  0.000000  1.000000  1.584963  2.000000  2.321928  2.584963  \n",
      "c  1.000000  0.000000  1.000000  1.584963  2.000000  2.321928  \n",
      "v  1.584963  1.000000  0.000000  1.000000  1.584963  2.000000  \n",
      "b  2.000000  1.584963  1.000000  0.000000  1.000000  1.584963  \n",
      "n  2.321928  2.000000  1.584963  1.000000  0.000000  1.000000  \n",
      "m  2.584963  2.321928  2.000000  1.584963  1.000000  0.000000  \n",
      "\n",
      "[26 rows x 26 columns]\n"
     ]
    }
   ],
   "source": [
    "df = pd.DataFrame(ids)\n",
    "df.columns = keyboard_list\n",
    "df.index = keyboard_list\n",
    "print(df)"
   ]
  },
  {
   "cell_type": "markdown",
   "metadata": {},
   "source": [
    "Question: Explain why we can consider that the keys are square with dimension W = 1.   \n",
    "\n",
    "Answer: In Equation (1), we can see the time MT is decided by the distance (D) and the target size (W). In our research, we want to model keyboard typing with a single finger. We know that each key on the keyboard is the same size, so when typing different words, the size has little influence on the time. If we consider W = 1, it's easy for computation and the MT is only dependent on the distance. Another explanation may be that the size contains width and height, but the equation doesn't specify which one should be computed. So we can consider that both the width and the height are 1, and the size is also 1. This meets the requirements of the equation."
   ]
  },
  {
   "cell_type": "markdown",
   "metadata": {},
   "source": [
    "## Task 2 Estimating Model parameters"
   ]
  },
  {
   "cell_type": "code",
   "execution_count": 4,
   "metadata": {},
   "outputs": [
    {
     "name": "stdout",
     "output_type": "stream",
     "text": [
      "R-squared: 0.708528\n",
      "Standard error: 0.014609\n",
      "slope: 0.11835088609159354\n",
      "intercept: 0.04041064521015433\n",
      "confidence intervals of slope: (0.09855306152551012, 0.14010871997573707)\n",
      "confidence intervals of intercept: (-0.008491378658772676, 0.08698773985663089)\n"
     ]
    },
    {
     "data": {
      "image/png": "[encoded data removed]",
      "text/plain": [
       "<Figure size 432x288 with 1 Axes>"
      ]
     },
     "metadata": {
      "needs_background": "light"
     },
     "output_type": "display_data"
    }
   ],
   "source": [
    "def get_keystrokes(filename, ids):\n",
    "    ID, MT = [], []\n",
    "    with open(filename, 'r') as _file:\n",
    "        startime = 0\n",
    "        for n,line in enumerate(_file):\n",
    "#             print(n,line)\n",
    "            try:\n",
    "                startkey, stopkey, time = line.split(\",\")\n",
    "#                 print(startkey, stopkey, time)\n",
    "                time = float(time.rsplit('\\n')[0])\n",
    "                # if startkey == 'None':\n",
    "                if n == 0:\n",
    "                    startime = time\n",
    "                    continue\n",
    "                startkey = startkey.split(\"'\")[1]\n",
    "                stopkey = stopkey.split(\"'\")[1]\n",
    "                if startkey not in alphabet or stopkey not in alphabet:\n",
    "                    continue\n",
    "                ns = alphabet.index(startkey)\n",
    "                ne = alphabet.index(stopkey)\n",
    "                mt = time - startime\n",
    "                MT.append(mt)\n",
    "                ID.append(ids[ns,ne])\n",
    "                startime = time\n",
    "            except IndexError:\n",
    "                pass\n",
    "    return ID,MT\n",
    "\n",
    "\n",
    "\n",
    "### Complete this function to estimate the parameters of Fitts' law\n",
    "def analyse_keystrokes(ID,MT,ax):\n",
    "    ax.plot(ID,MT,'o')\n",
    "\n",
    "    slope, intercept, r_value, p_value, stderr = stats.linregress(ID, MT)\n",
    "    # To get coefficient of determination (R-squared):\n",
    "    print(\"R-squared: %f\" % r_value**2)\n",
    "    # stderr: how good of a fit the gradient is (higher values mean less precise) \n",
    "    print(\"Standard error: %f\" % stderr)\n",
    "    \n",
    "    # assess the confidence of the estimated parameters\n",
    "    n = len(MT)\n",
    "    data = list(zip(ID, MT))\n",
    "    list_slopes = []\n",
    "    list_intercepts = []\n",
    "\n",
    "    # repeated sampling\n",
    "    for _ in range(100):\n",
    "        sampled_data = [random.choice(data) for i in range(n)]\n",
    "        x_s,y_s = zip(*sampled_data)\n",
    "        x_s = numpy.array(x_s)\n",
    "        y_s = numpy.array(y_s)\n",
    "\n",
    "        m_s, b_s, r, p, err = stats.linregress(x_s,y_s)\n",
    "\n",
    "        list_slopes.append(m_s)\n",
    "        list_intercepts.append(b_s)\n",
    "        \n",
    "    # confidence interval of slopes\n",
    "    mu_slope = numpy.mean(list_slopes)\n",
    "    sigma_slope = numpy.std(list_slopes)\n",
    "    ci_slope = stats.norm.interval(0.95, loc=mu_slope, scale=sigma_slope)\n",
    "    \n",
    "    # confidence interval of intercepts\n",
    "    mu_intercept = numpy.mean(list_intercepts)\n",
    "    sigma_intercept = numpy.std(list_intercepts)\n",
    "    ci_intercept = stats.norm.interval(0.95, loc=mu_intercept, scale=sigma_intercept)\n",
    "    \n",
    "    print(f\"slope: {slope}\")\n",
    "    print(f\"intercept: {intercept}\")\n",
    "    print(f\"confidence intervals of slope: {ci_slope}\")\n",
    "    print(f\"confidence intervals of intercept: {ci_intercept}\")\n",
    "\n",
    "    return slope, intercept\n",
    "\n",
    "ids = numpy.load('./id.npy')\n",
    "\n",
    "#### Show how well Fitts' model fits: graphical representation, a goodness of fit of choice, and the uncertainty with regards to estimated parameters\n",
    "\n",
    "fig = plt.figure()\n",
    "ax = fig.add_subplot(111)\n",
    "###TODO: use the get_keystrokes fucntion to get the IDs associated MT for each keystroke.\n",
    "ID,MT = get_keystrokes('keystrokes.csv', ids)\n",
    "####TODO: finish and use the analyse_keystrokes function to fit and plot Fitts' model.\n",
    "slope, intercept = analyse_keystrokes(ID,MT,ax)\n",
    "# print(slope, intercept)\n",
    "\n",
    "f_MT = [i*slope+intercept for i in ID]\n",
    "\n",
    "ax.plot(ID, f_MT, 'k--')\n",
    "plt.show()"
   ]
  },
  {
   "cell_type": "markdown",
   "metadata": {},
   "source": [
    "Analysis:\n",
    "1. The goodness of fit  \n",
    "(1) R-squared is a statistical measure of how close the data are to the fitted regression line. I get it 0.71 for the linear regression which means over 70% data is on the fitted regression line. The fit is not bad.  \n",
    "(2) I also use the Standard Error to access the goodness. It tells how wrong the regression model is on average using the units of the response variable. Smaller values are better because it indicates that the observations are closer to the fitted line. I think the result 0.015 is fine.  \n",
    "2. the confidence in the parameter values  \n",
    "I try to use confidence interval to access the confidence in the parameter values. To get it, I repeat sampling multiple times and get a list of slopes and intercepts, and use `stats.norm.interval` to compute the confidence interval. The results are (0.1, 0.13) and (0, 0.08) separately."
   ]
  },
  {
   "cell_type": "markdown",
   "metadata": {},
   "source": [
    "## Task 3 Most Common words"
   ]
  },
  {
   "cell_type": "code",
   "execution_count": 5,
   "metadata": {},
   "outputs": [
    {
     "name": "stdout",
     "output_type": "stream",
     "text": [
      "Average time needed\n",
      "0.9999165686462256\n"
     ]
    },
    {
     "data": {
      "image/png": "[encoded data removed]",
      "text/plain": [
       "<Figure size 432x288 with 2 Axes>"
      ]
     },
     "metadata": {
      "needs_background": "light"
     },
     "output_type": "display_data"
    }
   ],
   "source": [
    "slope = 0.12\n",
    "intercept = 0.03\n",
    "with open(\"mostcommonwords.txt\", 'r') as _file:\n",
    "    T = []\n",
    "    for nline, line in enumerate(_file):\n",
    "        t = 0 ### initialize the typing time for a word\n",
    "        line = line[:-1]\n",
    "#         print(line, len(line))\n",
    "        for i in range(0, len(line)-1):\n",
    "            try:\n",
    "                ns = alphabet.index(line[i])\n",
    "                ne = alphabet.index(line[i+1])\n",
    "                id = ids[ns,ne]\n",
    "                ###TODO: increment typing time for each letter stroke\n",
    "                t += (slope * id + intercept)\n",
    "            except ValueError:\n",
    "                pass\n",
    "        T.append(t)\n",
    "\n",
    "print(\"Average time needed\")\n",
    "print(numpy.mean(T))\n",
    "\n",
    "fig = plt.figure()\n",
    "ax = fig.add_subplot(121)\n",
    "axhist = fig.add_subplot(122)\n",
    "\n",
    "ax.plot(range(0,len(T)), T, 'o')\n",
    "ax.set_ylabel(\"Typing time (seconds)\")\n",
    "ax.set_xlabel(\"Word Index\")\n",
    "###TODO: Plot the histogram of the typing times (use plt.hist() function )\n",
    "axhist.hist(T)\n",
    "axhist.set_xlabel('Typing time (seconds)')\n",
    "axhist.set_ylabel('Frequency of typing time')\n",
    "plt.subplots_adjust(wspace=0.5)\n",
    "plt.show()\n",
    "plt.close()"
   ]
  },
  {
   "cell_type": "markdown",
   "metadata": {},
   "source": [
    "## Task 4 Modeling word frequency\n",
    "I choose to estimate the `s` using logarithmic function since I see that the relation between logoc and logfreq is linear.  \n",
    "$$p(k) = \\frac{1/k^s}{\\sum_{i=1}^{N} 1/i^s}$$\n",
    "$$\\log p(k) = -s\\log(k) - \\log(\\sum_{i=1}^{N} 1/i^s)$$\n",
    "$$\\log frequency = \\log(p(k)\\times sum) = \\log p(k) + \\log sum = -s\\log(k) - \\log(\\sum_{i=1}^{N} 1/i^s) + \\log sum$$\n",
    "Because N, sum, s are constants, the equation can be simplified as $$\\log frequency = -s\\log(k) + b$$\n",
    "As a result, the `s` is just the opposite of the slope of the linear function. $$s = -slope$$"
   ]
  },
  {
   "cell_type": "code",
   "execution_count": 6,
   "metadata": {
    "scrolled": true
   },
   "outputs": [
    {
     "data": {
      "image/png": "[encoded data removed]",
      "text/plain": [
       "<Figure size 432x288 with 2 Axes>"
      ]
     },
     "metadata": {
      "needs_background": "light"
     },
     "output_type": "display_data"
    },
    {
     "name": "stdout",
     "output_type": "stream",
     "text": [
      "s: 0.8546543112841491\n"
     ]
    }
   ],
   "source": [
    "frequency = [1e9, 182e6, 99e6, 73e6, 53e6, 41e6, 34e6, 30e6, 25.7e6, 22.5e6, 20e6]\n",
    "rank  = [1, 10, 20, 30, 40, 50, 60, 70, 80, 90, 100]\n",
    "\n",
    "logfreq = [math.log(f,2) for f in frequency]\n",
    "logoc = [math.log(o,2) for o in rank]\n",
    "\n",
    "###TODO Fit Zipf's model to the frequencey-rank relationship, as explained in the assigment.\n",
    "\n",
    "## Plot the data + fitted model\n",
    "fig = plt.figure()\n",
    "ax = fig.add_subplot(121)\n",
    "axlog = fig.add_subplot(122)\n",
    "ax.plot(rank, frequency, '-')\n",
    "\n",
    "axlog.plot(logoc, logfreq)\n",
    "plt.show()\n",
    "\n",
    "slope, intercept, r_value, p_value, stderr = stats.linregress(logoc, logfreq)\n",
    "s = -slope\n",
    "print(f\"s: {s}\")\n"
   ]
  },
  {
   "cell_type": "markdown",
   "metadata": {},
   "source": [
    "plot the fitted model using N = 100"
   ]
  },
  {
   "cell_type": "code",
   "execution_count": 7,
   "metadata": {},
   "outputs": [
    {
     "data": {
      "text/plain": [
       "Text(0, 0.5, 'Probability')"
      ]
     },
     "execution_count": 7,
     "metadata": {},
     "output_type": "execute_result"
    },
    {
     "data": {
      "image/png": "[encoded data removed]",
      "text/plain": [
       "<Figure size 432x288 with 1 Axes>"
      ]
     },
     "metadata": {
      "needs_background": "light"
     },
     "output_type": "display_data"
    }
   ],
   "source": [
    "N = 100\n",
    "x = range(1,101)\n",
    "x_sum = numpy.sum([1 / i**s for i in x])\n",
    "def func(x):\n",
    "    return (1 / (x**s)) / x_sum\n",
    "\n",
    "plt.plot(x, func(x))\n",
    "plt.title('Fitted model')\n",
    "plt.xlabel('Kth most frequent word')\n",
    "plt.ylabel('Probability')"
   ]
  },
  {
   "cell_type": "code",
   "execution_count": 20,
   "metadata": {},
   "outputs": [
    {
     "name": "stdout",
     "output_type": "stream",
     "text": [
      "0.7124495668649801\n"
     ]
    }
   ],
   "source": [
    "## Use this new information to evaluate the average time it takes to type the 1000 most common words\n",
    "## Assume that there are only 1000 words in total, i.e. N = 1000. Skip the case of single letter words\n",
    "s = 0.85\n",
    "\n",
    "##TODO: Compute the normalizing sum (denominator) in the p(k) expression, with s = 0.85\n",
    "_sum = numpy.sum([1 / i**s for i in range(1,1001)])\n",
    "\n",
    "## TODO: compute the p(k)'s for each k\n",
    "weights = []\n",
    "for nt in range(1,1001):\n",
    "    weight = (1 / nt**s) /_sum\n",
    "    weights.append(weight)\n",
    "\n",
    "weighted_sum = 0\n",
    "for w,t in zip(weights, T):\n",
    "    weighted_sum += w*t\n",
    "\n",
    "print(weighted_sum)"
   ]
  },
  {
   "cell_type": "markdown",
   "metadata": {},
   "source": [
    "## Task 5 New keyboard layout"
   ]
  },
  {
   "cell_type": "markdown",
   "metadata": {},
   "source": [
    "### Get the new ids"
   ]
  },
  {
   "cell_type": "code",
   "execution_count": 15,
   "metadata": {},
   "outputs": [],
   "source": [
    "new_line1 = 'qwert'\n",
    "new_line2 = 'yuiop'\n",
    "new_line3 = 'asdfg'\n",
    "new_line4 = 'hjkl'\n",
    "new_line5 = 'zxcvbnm'\n",
    "\n",
    "\n",
    "### Define a keyboard as a list of keys. Each key also mentions its position in the keyboard (line number, column number)\n",
    "new_keyboard  = [(i, (0,ni)) for ni,i in enumerate(new_line1)] + [(i, (1,ni)) for ni,i in enumerate(new_line2)] + [(i, (2,ni)) for ni,i in enumerate(new_line3)] + [(i, (3,ni)) for ni,i in enumerate(new_line4)] + [(i, (4,ni)) for ni,i in enumerate(new_line5)]\n",
    "\n",
    "### Define empty matrices to hold the results\n",
    "new_ids = numpy.zeros((26,26))\n",
    "Ds = numpy.zeros((26,26))\n",
    "W = 1\n",
    "\n",
    "alphabet = new_line1 + new_line2 + new_line3 + new_line4 + new_line5\n",
    "\n",
    "### Get Ids for each key combination\n",
    "for ns,keystart in enumerate(alphabet):\n",
    "    for ne, keyend in enumerate(alphabet):\n",
    "        xs,ys, xe,ye = new_keyboard[ns][1][1] + 2/5*new_keyboard[ns][1][0], new_keyboard[ns][1][0], new_keyboard[ne][1][1] + 2/5*new_keyboard[ne][1][0], new_keyboard[ne][1][0]\n",
    "        ## Compute euclidian distance between the startkey and endkey\n",
    "        D = math.sqrt((xe - xs)**2 + (ye - ys)**2)\n",
    "        Ds[ns,ne] = D\n",
    "        ## Use Fitts' law formula\n",
    "        new_ids[ns,ne] = math.log2(1 + (D / W))"
   ]
  },
  {
   "cell_type": "markdown",
   "metadata": {},
   "source": [
    "### Use Fitts' law to calculate the average time"
   ]
  },
  {
   "cell_type": "code",
   "execution_count": 17,
   "metadata": {},
   "outputs": [
    {
     "name": "stdout",
     "output_type": "stream",
     "text": [
      "Average time needed\n",
      "0.9472428097811928\n"
     ]
    },
    {
     "data": {
      "image/png": "[encoded data removed]",
      "text/plain": [
       "<Figure size 432x288 with 2 Axes>"
      ]
     },
     "metadata": {
      "needs_background": "light"
     },
     "output_type": "display_data"
    }
   ],
   "source": [
    "slope = 0.12\n",
    "intercept = 0.03\n",
    "with open(\"mostcommonwords.txt\", 'r') as _file:\n",
    "    new_T = []\n",
    "    for nline, line in enumerate(_file):\n",
    "        t = 0 ### initialize the typing time for a word\n",
    "        line = line[:-1]\n",
    "#         print(line, len(line))\n",
    "        for i in range(0, len(line)-1):\n",
    "            try:\n",
    "                ns = alphabet.index(line[i])\n",
    "                ne = alphabet.index(line[i+1])\n",
    "                id = new_ids[ns,ne]\n",
    "                ###TODO: increment typing time for each letter stroke\n",
    "                t += slope * id + intercept\n",
    "            except ValueError:\n",
    "                pass\n",
    "        new_T.append(t)\n",
    "\n",
    "print(\"Average time needed\")\n",
    "print(numpy.mean(new_T))\n",
    "\n",
    "fig = plt.figure()\n",
    "ax = fig.add_subplot(121)\n",
    "axhist = fig.add_subplot(122)\n",
    "\n",
    "ax.plot(range(0,len(new_T)), new_T, 'o')\n",
    "ax.set_ylabel(\"Typing time (seconds)\")\n",
    "ax.set_xlabel(\"Word Index\")\n",
    "###TODO: Plot the histogram of the typing times (use plt.hist() function )\n",
    "axhist.hist(new_T)\n",
    "axhist.set_xlabel('Typing time (seconds)')\n",
    "axhist.set_ylabel('Frequency of typing time')\n",
    "plt.subplots_adjust(wspace=0.5)\n",
    "plt.show()\n",
    "plt.close()"
   ]
  },
  {
   "cell_type": "markdown",
   "metadata": {},
   "source": [
    "### Consider the word frequency and recalculate the average time"
   ]
  },
  {
   "cell_type": "code",
   "execution_count": 19,
   "metadata": {},
   "outputs": [
    {
     "name": "stdout",
     "output_type": "stream",
     "text": [
      "0.6741681764395243\n"
     ]
    }
   ],
   "source": [
    "weighted_sum = 0\n",
    "for w,t in zip(weights, new_T):\n",
    "    weighted_sum += w*t\n",
    "\n",
    "print(weighted_sum)"
   ]
  },
  {
   "cell_type": "markdown",
   "metadata": {},
   "source": [
    "### Discussion\n",
    "\n",
    "why is changing the keyboard layout based on this analysis a bad idea ?\n",
    "\n",
    "From the results above, the new keyboard saves a little typing time (0.67 vs 0.71 ). However, it's not a good idea to change the keyboard layout. The time saving is not so much, but users' habits are hard to change in a short time. Changing user behavior requires a lot of cost. In this case, it's not cost-effective to do this. Using unfamiliar keyboard layout would cause confusion for users and influence their use experience which are not designers want to see."
   ]
  },
  {
   "cell_type": "code",
   "execution_count": null,
   "metadata": {},
   "outputs": [],
   "source": []
  }
 ],
 "metadata": {
  "kernelspec": {
   "display_name": "mykernel",
   "language": "python",
   "name": "mykernel"
  },
  "language_info": {
   "codemirror_mode": {
    "name": "ipython",
    "version": 3
   },
   "file_extension": ".py",
   "mimetype": "text/x-python",
   "name": "python",
   "nbconvert_exporter": "python",
   "pygments_lexer": "ipython3",
   "version": "3.8.0"
  }
 },
 "nbformat": 4,
 "nbformat_minor": 4
}
