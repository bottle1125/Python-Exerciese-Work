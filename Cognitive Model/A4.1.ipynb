{
 "cells": [
  {
   "cell_type": "markdown",
   "metadata": {},
   "source": [
    "# A4.1: Predicting gaze-selection performance time"
   ]
  },
  {
   "cell_type": "code",
   "execution_count": 84,
   "metadata": {},
   "outputs": [],
   "source": [
    "import math\n",
    "import copy\n",
    "import numpy as np\n",
    "import matplotlib.pyplot as plt\n",
    "import scipy.stats as sp\n",
    "import jupyter_module_loader\n",
    "jupyter_module_loader.register()"
   ]
  },
  {
   "cell_type": "markdown",
   "metadata": {},
   "source": [
    "To reuse functions in notebook, I import both notebook1c and notebook2c"
   ]
  },
  {
   "cell_type": "code",
   "execution_count": 75,
   "metadata": {},
   "outputs": [],
   "source": [
    "import notebook1c as m1\n",
    "import notebook2c as m2"
   ]
  },
  {
   "cell_type": "markdown",
   "metadata": {},
   "source": [
    "## Move duration\n",
    "I give two hypothetical values: the speed of saccade and the duration of fixations.  \n",
    "People try to move their eyes to the target, in each trial, the move duration is the sum of the saccades and the fixations."
   ]
  },
  {
   "cell_type": "code",
   "execution_count": 85,
   "metadata": {},
   "outputs": [],
   "source": [
    "def agent( belief, state, bounds, stop ):\n",
    "    num_fixations = 0\n",
    "    # loop until the gaze is on the target location\n",
    "    done = False\n",
    "    move_duration = 0\n",
    "    while not done:\n",
    "        action = m2.controller( belief )\n",
    "        state = m1.environment( state, action, bounds )\n",
    "        obs = m1.observation( state, bounds )\n",
    "        belief = m2.state_estimate( belief, obs )\n",
    "\n",
    "        saccade_speed = 30 # per second\n",
    "        saccade_time = obs['target_est'] / saccade_speed # linearly related to the distance\n",
    "#         saccade_speed = np.random.normal( 0, bounds['saccade_noise'] * saccade_speed, 1) + saccade_speed\n",
    "#       print(saccade_speed)\n",
    "        \n",
    "        fixation_duration = 0.5 # seconds\n",
    "#         fixation_duration = np.random.normal( 0, bounds['fixation_noise'] * fixation_duration, 1) + fixation_duration\n",
    "#       print(fixation_duration \n",
    "        move_duration += saccade_time + fixation_duration\n",
    "    \n",
    "        num_fixations += 1\n",
    "        done = stop(state)\n",
    "    return move_duration"
   ]
  },
  {
   "cell_type": "markdown",
   "metadata": {},
   "source": [
    "We can test the agent by calling it with the prior and a random state."
   ]
  },
  {
   "cell_type": "code",
   "execution_count": 93,
   "metadata": {},
   "outputs": [
    {
     "data": {
      "text/plain": [
       "2.4328811134232096"
      ]
     },
     "execution_count": 93,
     "metadata": {},
     "output_type": "execute_result"
    }
   ],
   "source": [
    "agent( m2.init_prior(), m1.init_random_state(m1.task_env), m1.init_bounds(), m1.terminate )"
   ]
  },
  {
   "cell_type": "markdown",
   "metadata": {},
   "source": [
    "## Bounds\n",
    "\n",
    "Next we add bounds to the model for the saccade_speed and the fixation_duration"
   ]
  },
  {
   "cell_type": "code",
   "execution_count": 94,
   "metadata": {},
   "outputs": [],
   "source": [
    "def init_bounds():\n",
    "    return {'ocular_noise': 0.1,\n",
    "            'perceptual_noise': 0.05,\n",
    "            'fixation_noise': 0.1,\n",
    "            'saccade_noise': 0.1}"
   ]
  },
  {
   "cell_type": "markdown",
   "metadata": {},
   "source": [
    "Now we can get a new agent."
   ]
  },
  {
   "cell_type": "code",
   "execution_count": 98,
   "metadata": {},
   "outputs": [],
   "source": [
    "def agent( belief, state, bounds, stop ):\n",
    "    num_fixations = 0\n",
    "    # loop until the gaze is on the target location\n",
    "    done = False\n",
    "    move_duration = 0\n",
    "    while not done:\n",
    "        action = m2.controller( belief )\n",
    "        state = m1.environment( state, action, bounds )\n",
    "        obs = m1.observation( state, bounds )\n",
    "        belief = m2.state_estimate( belief, obs )\n",
    "\n",
    "        saccade_speed = 30 # per second\n",
    "        saccade_random_offset = np.random.normal( 0, bounds['saccade_noise'] * saccade_speed, 1)\n",
    "        saccade_time = obs['target_est'] / (saccade_speed + saccade_random_offset) # linearly related to the distance\n",
    "        # print(saccade_speed)\n",
    "        \n",
    "        fixation_duration = 0.5 # seconds\n",
    "        fixation_random_offset = np.random.normal( 0, bounds['fixation_noise'] * fixation_duration, 1)\n",
    "        fixation_duration += fixation_random_offset\n",
    "#       print(fixation_duration)\n",
    "        move_duration += saccade_time + fixation_duration\n",
    "    \n",
    "        num_fixations += 1\n",
    "        done = stop(state)\n",
    "    return move_duration"
   ]
  },
  {
   "cell_type": "code",
   "execution_count": 97,
   "metadata": {},
   "outputs": [
    {
     "data": {
      "text/plain": [
       "array([2.90702961])"
      ]
     },
     "execution_count": 97,
     "metadata": {},
     "output_type": "execute_result"
    }
   ],
   "source": [
    "agent( m2.init_prior(), m1.init_random_state(m1.task_env), init_bounds(), m1.terminate )"
   ]
  },
  {
   "cell_type": "markdown",
   "metadata": {},
   "source": [
    "## Test model"
   ]
  },
  {
   "cell_type": "code",
   "execution_count": 99,
   "metadata": {},
   "outputs": [
    {
     "name": "stdout",
     "output_type": "stream",
     "text": [
      "prior:{'location': 30, 'uncertainty': 5, 'at_target': False}\n",
      "task_env:{'location_mean': 30, 'location_SD': 5, 'width_min': 2, 'width_max': 8}\n",
      "bounds:{'ocular_noise': 0.1, 'perceptual_noise': 0.05, 'fixation_noise': 0.1, 'saccade_noise': 0.1}\n",
      "example random state:{'target_loc': 27.6156522401034, 'target_width': 4.679331906623484, 'gaze_loc': 0}\n"
     ]
    },
    {
     "data": {
      "image/png": "[encoded data removed]",
      "text/plain": [
       "<Figure size 432x288 with 1 Axes>"
      ]
     },
     "metadata": {
      "needs_background": "light"
     },
     "output_type": "display_data"
    }
   ],
   "source": [
    "def test_model( prior, state, bounds, n_trials=10 ):\n",
    "    fixation_list=[]\n",
    "    for trial in range(n_trials):\n",
    "        results = agent( prior, state, bounds, m1.terminate )\n",
    "        fixation_list.append( results )\n",
    "    return fixation_list\n",
    "\n",
    "list_move_duration = []\n",
    "for i in range(100):\n",
    "    state = m1.init_random_state(m1.task_env)\n",
    "    list_move_duration.append(np.mean(test_model( m2.init_prior(), state, init_bounds(), n_trials=100 )))\n",
    "\n",
    "print(\"prior:\" + str(init_prior()))\n",
    "print(\"task_env:\" + str(m1.task_env))\n",
    "print(\"bounds:\" + str(init_bounds()))\n",
    "print(\"example random state:\" + str(m1.init_random_state(m1.task_env)))\n",
    "\n",
    "m = len(list_move_duration)\n",
    "plt.hist(list_move_duration, color='steelblue', weights=np.ones(m)/m, align='left', rwidth=0.8, bins=[1,2,3,4,5,6,7,8])\n",
    "plt.ylim(top=1)\n",
    "plt.xlabel(\"Move durations\")\n",
    "plt.ylabel(\"Frequency\")\n",
    "plt.title(\"Frequency of move durations to find the target\")\n",
    "plt.show()"
   ]
  },
  {
   "cell_type": "markdown",
   "metadata": {},
   "source": [
    "We could find that the distribution of move duration from the graph below. The most frequency of move durations is at 1 and reduces with move duration increases"
   ]
  },
  {
   "cell_type": "markdown",
   "metadata": {},
   "source": [
    "## Effect of width\n",
    "\n",
    "We can use the model to predict the effect of width on the move duration."
   ]
  },
  {
   "cell_type": "code",
   "execution_count": 73,
   "metadata": {},
   "outputs": [
    {
     "data": {
      "image/png": "[encoded data removed]",
      "text/plain": [
       "<Figure size 432x288 with 1 Axes>"
      ]
     },
     "metadata": {
      "needs_background": "light"
     },
     "output_type": "display_data"
    }
   ],
   "source": [
    "list_move_duration = []\n",
    "widths = list(range(1,10))\n",
    "for width in widths:\n",
    "    state = {'target_loc': 60, 'target_width': width, 'gaze_loc': 0}\n",
    "    prior = {'location': 30, 'uncertainty': 50, 'at_target': False}\n",
    "    list_move_duration.append(np.mean(test_model( prior, state, init_bounds(), n_trials=500 )))\n",
    "\n",
    "plt.bar(widths, list_move_duration)\n",
    "plt.xlabel(\"Width\")\n",
    "plt.ylabel(\"Move duration\")\n",
    "plt.show()"
   ]
  },
  {
   "cell_type": "markdown",
   "metadata": {},
   "source": [
    "As for width increases, we can see the move duration decreases. Because the increasing width causes the reduction of the number of fixations."
   ]
  },
  {
   "cell_type": "markdown",
   "metadata": {},
   "source": [
    "## Effect of distance\n",
    "\n",
    "We can predict the effect of distance on the number of fixations."
   ]
  },
  {
   "cell_type": "code",
   "execution_count": 70,
   "metadata": {
    "scrolled": true
   },
   "outputs": [
    {
     "data": {
      "image/png": "[encoded data removed]",
      "text/plain": [
       "<Figure size 432x288 with 1 Axes>"
      ]
     },
     "metadata": {
      "needs_background": "light"
     },
     "output_type": "display_data"
    }
   ],
   "source": [
    "list_move_duration = []\n",
    "locations = list(range(0,100,10))\n",
    "for location in locations:\n",
    "    state = {'target_loc': location, 'target_width': 5, 'gaze_loc': 150}\n",
    "    prior = {'location': 0, 'uncertainty': 5, 'at_target': False}\n",
    "    list_move_duration.append(np.mean(test_model( prior, state, init_bounds(), n_trials=500 )))\n",
    "\n",
    "plt.bar(locations, list_move_duration, width=8)\n",
    "plt.xlabel(\"Distance\")\n",
    "plt.ylabel(\"Move duration\")\n",
    "plt.show()"
   ]
  },
  {
   "cell_type": "markdown",
   "metadata": {},
   "source": [
    "As for distance increases, the move duration is approximately logarithmic growth. Because both the saccade time and the number of fixations increase."
   ]
  },
  {
   "cell_type": "markdown",
   "metadata": {},
   "source": [
    "## Discussion\n",
    "\n",
    "Assess the behaviour of the model. Does it work well? How could it be improved? How does it compare to Fitts’ Law as a model of human cognition?"
   ]
  },
  {
   "cell_type": "markdown",
   "metadata": {},
   "source": [
    "I think the model works well. It has considered both the saccade time and fixation duration. However, I guess the saccade time may not be linearly related to the distance moved. For example, there may be diraction factor that could influence the time. The relation should be measured. And I also think that in state estimation process, we could consider the saccade speed. According to previous observation, people may be more familiar with the target so the saccade speed may be increased.  \n",
    "Compared to Fitts' Law, I think the new model is better. Because Fitts' Law doesn't consider the fixation duration. And Fitts' Law assumes that user can focus on the target in one attempt. The new model consider more noise in environment that would influence the result. So I think the new model is more practical in real life."
   ]
  }
 ],
 "metadata": {
  "kernelspec": {
   "display_name": "Python 3",
   "language": "python",
   "name": "python3"
  },
  "language_info": {
   "codemirror_mode": {
    "name": "ipython",
    "version": 3
   },
   "file_extension": ".py",
   "mimetype": "text/x-python",
   "name": "python",
   "nbconvert_exporter": "python",
   "pygments_lexer": "ipython3",
   "version": "3.8.0"
  }
 },
 "nbformat": 4,
 "nbformat_minor": 4
}
