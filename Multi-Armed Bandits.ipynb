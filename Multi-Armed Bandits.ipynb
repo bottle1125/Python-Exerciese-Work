{
 "cells": [
  {
   "cell_type": "markdown",
   "metadata": {
    "slideshow": {
     "slide_type": "slide"
    }
   },
   "source": [
    "# Assignment 7: Multi-Armed Bandits\n",
    "## A7.1. Modifying the Bandits Problem and the ε-Greedy Solver"
   ]
  },
  {
   "cell_type": "code",
   "execution_count": 10,
   "metadata": {
    "slideshow": {
     "slide_type": "skip"
    }
   },
   "outputs": [],
   "source": [
    "import time\n",
    "import random\n",
    "import numpy as np\n",
    "import scipy.stats\n",
    "import matplotlib.pyplot as plt\n",
    "from __future__ import print_function\n",
    "from ipywidgets import interact, interactive, fixed, interact_manual, Layout, Button, Box\n",
    "import ipywidgets as widgets"
   ]
  },
  {
   "cell_type": "markdown",
   "metadata": {
    "slideshow": {
     "slide_type": "slide"
    }
   },
   "source": [
    "## Defining a Bandit"
   ]
  },
  {
   "cell_type": "code",
   "execution_count": 11,
   "metadata": {
    "slideshow": {
     "slide_type": "subslide"
    }
   },
   "outputs": [],
   "source": [
    "class Bandit():\n",
    "    def __init__(self, n, thetas, rewards):\n",
    "        assert n == len(thetas)\n",
    "        self.n = n # Number of arms\n",
    "        self.thetas = thetas # Reward probabilities\n",
    "        self.best_theta = max(self.thetas) # Reward probability of best arm\n",
    "        self.rewards = rewards # Reward for each arm\n",
    "    \n",
    "    def pull_arm(self, i):\n",
    "        # Function to pull an arm i and return a reward (0 or 1) with probability theta for i\n",
    "        return self.rewards[i] if np.random.random() < self.thetas[i] else 0\n",
    "        "
   ]
  },
  {
   "cell_type": "markdown",
   "metadata": {
    "slideshow": {
     "slide_type": "slide"
    }
   },
   "source": [
    "## Defining a Generic Solver"
   ]
  },
  {
   "cell_type": "code",
   "execution_count": 12,
   "metadata": {
    "slideshow": {
     "slide_type": "subslide"
    }
   },
   "outputs": [],
   "source": [
    "class Solver():\n",
    "    def __init__(self, bandit):\n",
    "        np.random.seed(int(time.time()))\n",
    "        # bandit(Bandit): the target bandit to solve\n",
    "        assert isinstance (bandit, Bandit)\n",
    "        self.bandit = bandit\n",
    "        self.counts = [0] * bandit.n # Number of times each arm pulled\n",
    "        self.actions = [] # Action history\n",
    "        self.regret = 0. # Cumulative regret\n",
    "        self.regrets = [0.] # History of regrets\n",
    "    \n",
    "    def update_regret(self, i):\n",
    "        # Update cumulative regret and regret history when arm i is pulled\n",
    "        self.regret += self.bandit.best_theta - self.bandit.thetas[i]\n",
    "        self.regrets.append(self.regret)\n",
    "        \n",
    "    @property\n",
    "    def estimated_thetas(self):\n",
    "        raise NotImplementedError\n",
    "    \n",
    "    # Generic function that performs one step, and returns index of arm pulled    \n",
    "    def run_one_step(self):\n",
    "        raise NotImplementedError\n",
    "        \n",
    "    # Conduct one trial with given number of iterations (steps)       \n",
    "    def run(self, num_steps):\n",
    "        assert self.bandit is not None\n",
    "        for _ in range(num_steps):\n",
    "            i = self.run_one_step()\n",
    "            self.counts[i] += 1\n",
    "            self.actions.append(i)\n",
    "            self.update_regret(i)   \n",
    "            "
   ]
  },
  {
   "cell_type": "markdown",
   "metadata": {
    "slideshow": {
     "slide_type": "slide"
    }
   },
   "source": [
    "## Defining an Experiment"
   ]
  },
  {
   "cell_type": "code",
   "execution_count": 13,
   "metadata": {
    "slideshow": {
     "slide_type": "subslide"
    }
   },
   "outputs": [],
   "source": [
    "def run_solver(solver, trials = 20, iterations = 10000, print_log = True):\n",
    "    cumulative_regrets = [] # Cumulative regret for all 20 trials\n",
    "    for trial in range(trials):\n",
    "        solver.regret = 0.\n",
    "        solver.regrets = [0.]\n",
    "        solver.run(iterations)\n",
    "        cumulative_regrets.append(solver.regret)\n",
    "    if print_log:\n",
    "        print(f'Solver: {solver.name}\\nCumulative regret (mean): {np.mean(cumulative_regrets)}; Cumulative regret (std): {np.std(cumulative_regrets)}')\n",
    "        action_count = [solver.actions.count(arm)/trials for arm in range(bandit.n)]\n",
    "        print(f\"Actions per arm: {action_count}\")\n",
    "    "
   ]
  },
  {
   "cell_type": "markdown",
   "metadata": {},
   "source": [
    "## 7.1 Modifying the Bandits Problem and the ε-Greedy Solver \n",
    "### 7.1.1 Update the Bandit"
   ]
  },
  {
   "cell_type": "markdown",
   "metadata": {},
   "source": [
    "### 1. Explore-Only"
   ]
  },
  {
   "cell_type": "code",
   "execution_count": 14,
   "metadata": {
    "slideshow": {
     "slide_type": "subslide"
    }
   },
   "outputs": [],
   "source": [
    "class Random(Solver):\n",
    "    def __init__(self, bandit):\n",
    "        super(Random, self).__init__(bandit)\n",
    "        self.name = \"Random\"\n",
    "        \n",
    "        \n",
    "    def run_one_step(self):\n",
    "        i = np.random.randint(0, self.bandit.n) # Select random arm\n",
    "        reward = self.bandit.pull_arm(i)\n",
    "        return i"
   ]
  },
  {
   "cell_type": "markdown",
   "metadata": {
    "slideshow": {
     "slide_type": "subslide"
    }
   },
   "source": [
    "####  1.1 Reward  Effects"
   ]
  },
  {
   "cell_type": "code",
   "execution_count": 15,
   "metadata": {},
   "outputs": [
    {
     "name": "stdout",
     "output_type": "stream",
     "text": [
      "===========\n",
      "rewards:  [0.01, 1, 40]\n",
      "reward_probs:  [0.3, 0.4, 0.5]\n",
      "Solver: Random\n",
      "Cumulative regret (mean): 999.4200000001131; Cumulative regret (std): 6.617219960075439\n",
      "Actions per arm: [3325.75, 3342.7, 3331.55]\n",
      "===========\n",
      "rewards:  [50, 3, 0.02]\n",
      "reward_probs:  [0.3, 0.4, 0.5]\n",
      "Solver: Random\n",
      "Cumulative regret (mean): 1000.0500000001135; Cumulative regret (std): 8.445856972506057\n",
      "Actions per arm: [3327.4, 3345.7, 3326.9]\n",
      "===========\n",
      "rewards:  [0.06, 400, 10]\n",
      "reward_probs:  [0.3, 0.4, 0.5]\n",
      "Solver: Random\n",
      "Cumulative regret (mean): 999.9200000001132; Cumulative regret (std): 8.71180807869577\n",
      "Actions per arm: [3324.6, 3350.0, 3325.4]\n",
      "===========\n",
      "rewards:  [10, 0.1, 100]\n",
      "reward_probs:  [0.3, 0.4, 0.5]\n",
      "Solver: Random\n",
      "Cumulative regret (mean): 1001.0850000001132; Cumulative regret (std): 7.4156776494145085\n",
      "Actions per arm: [3347.95, 3314.95, 3337.1]\n",
      "===========\n",
      "rewards:  [30, 0.01, 80]\n",
      "reward_probs:  [0.3, 0.4, 0.5]\n",
      "Solver: Random\n",
      "Cumulative regret (mean): 998.5050000001127; Cumulative regret (std): 8.273601090216504\n",
      "Actions per arm: [3330.5, 3324.05, 3345.45]\n"
     ]
    }
   ],
   "source": [
    "reward_lists = [\n",
    "    [0.01, 1, 40],\n",
    "    [50, 3, 0.02],\n",
    "    [0.06, 400, 10],\n",
    "    [10, 0.1, 100],\n",
    "    [30, 0.01, 80]\n",
    "]\n",
    "for i in range(5):\n",
    "    print('===========')\n",
    "    rewards = reward_lists[i]\n",
    "    reward_probs = [0.3, 0.4, 0.5]\n",
    "    print('rewards: ', rewards)\n",
    "    print('reward_probs: ', reward_probs)\n",
    "    bandit = Bandit(3, reward_probs, rewards)\n",
    "    random_solver = Random(bandit)\n",
    "    run_solver(random_solver)"
   ]
  },
  {
   "cell_type": "markdown",
   "metadata": {},
   "source": [
    "#### 1.2 Discussion\n",
    "\n",
    "From the result, I can see that the 'Cumulative regret' and the 'Actions per arm' didn't change. So different rewards won't influence the selection of bandits. Also, from the definition of regret, it relates reward probability only. It also chooses action randomly each time. As a result, setting different rewards won't influence the final solution."
   ]
  },
  {
   "cell_type": "markdown",
   "metadata": {},
   "source": [
    "### 2. Exploit-Only"
   ]
  },
  {
   "cell_type": "code",
   "execution_count": 16,
   "metadata": {
    "slideshow": {
     "slide_type": "subslide"
    }
   },
   "outputs": [],
   "source": [
    "class Greedy(Solver):\n",
    "    def __init__(self, bandit, arm):\n",
    "        super(Greedy, self).__init__(bandit)\n",
    "        self.name = \"Greedy\"\n",
    "        self.arm = arm\n",
    "    \n",
    "    def run_one_step(self):\n",
    "        reward = self.bandit.pull_arm(self.arm)\n",
    "        return self.arm\n",
    "    "
   ]
  },
  {
   "cell_type": "markdown",
   "metadata": {},
   "source": [
    "#### 2.1 Reward  Effects"
   ]
  },
  {
   "cell_type": "code",
   "execution_count": 17,
   "metadata": {},
   "outputs": [
    {
     "name": "stdout",
     "output_type": "stream",
     "text": [
      "===========\n",
      "rewards:  [0.01, 1, 40]\n",
      "reward_probs:  [0.3, 0.4, 0.5]\n",
      "Solver: Greedy\n",
      "Cumulative regret (mean): 2000.0000000003179; Cumulative regret (std): 2.2737367544323206e-13\n",
      "Actions per arm: [10000.0, 0.0, 0.0]\n",
      "===========\n",
      "rewards:  [50, 3, 0.02]\n",
      "reward_probs:  [0.3, 0.4, 0.5]\n",
      "Solver: Greedy\n",
      "Cumulative regret (mean): 0.0; Cumulative regret (std): 0.0\n",
      "Actions per arm: [0.0, 0.0, 10000.0]\n",
      "===========\n",
      "rewards:  [0.06, 400, 10]\n",
      "reward_probs:  [0.3, 0.4, 0.5]\n",
      "Solver: Greedy\n",
      "Cumulative regret (mean): 2000.0000000003179; Cumulative regret (std): 2.2737367544323206e-13\n",
      "Actions per arm: [10000.0, 0.0, 0.0]\n",
      "===========\n",
      "rewards:  [10, 0.1, 100]\n",
      "reward_probs:  [0.3, 0.4, 0.5]\n",
      "Solver: Greedy\n",
      "Cumulative regret (mean): 1000.0000000001589; Cumulative regret (std): 1.1368683772161603e-13\n",
      "Actions per arm: [0.0, 10000.0, 0.0]\n",
      "===========\n",
      "rewards:  [30, 0.01, 800]\n",
      "reward_probs:  [0.3, 0.4, 0.5]\n",
      "Solver: Greedy\n",
      "Cumulative regret (mean): 2000.0000000003179; Cumulative regret (std): 2.2737367544323206e-13\n",
      "Actions per arm: [10000.0, 0.0, 0.0]\n"
     ]
    }
   ],
   "source": [
    "# Reward Effects\n",
    "reward_lists = [\n",
    "    [0.01, 1, 40],\n",
    "    [50, 3, 0.02],\n",
    "    [0.06, 400, 10],\n",
    "    [10, 0.1, 100],\n",
    "    [30, 0.01, 800]\n",
    "]\n",
    "for i in range(5):\n",
    "    print('===========')\n",
    "    rewards = reward_lists[i]\n",
    "    reward_probs = [0.3, 0.4, 0.5]\n",
    "    print('rewards: ', rewards)\n",
    "    print('reward_probs: ', reward_probs)\n",
    "    bandit = Bandit(3, reward_probs, rewards)\n",
    "    random_solver = Greedy(bandit, random.choice(range(bandit.n)))\n",
    "    run_solver(random_solver)"
   ]
  },
  {
   "cell_type": "markdown",
   "metadata": {},
   "source": [
    "#### 2.2 Discussion\n",
    "We can find that the results still are not influenced by different rewards. When one arm is selected firstly, it will be selected forever. The regret cumulative is related to the selection of arm, if the probability of the selected arm is the highest, the cumulative regret will be 0, otherwise, it will increase."
   ]
  },
  {
   "cell_type": "markdown",
   "metadata": {},
   "source": [
    "### 3. $\\epsilon$-Greedy:"
   ]
  },
  {
   "cell_type": "code",
   "execution_count": 18,
   "metadata": {
    "slideshow": {
     "slide_type": "subslide"
    }
   },
   "outputs": [],
   "source": [
    "class EpsilonGreedy(Solver):\n",
    "    def __init__(self, bandit, epsilon, init_theta = 1.0):\n",
    "        super(EpsilonGreedy, self).__init__(bandit)\n",
    "        self.name = \"EpsilonGreedy\"\n",
    "        assert 0 <= epsilon <= 1\n",
    "        self.epsilon = epsilon\n",
    "        self.estimates = [init_theta] * self.bandit.n \n",
    "    \n",
    "    def estimated_thetas(self):\n",
    "        # Get theta estimates for all arms\n",
    "        return self.estimates\n",
    "    \n",
    "    def run_one_step(self):\n",
    "        # First, we need to decide whether to explore or exploit (based on epsilon)\n",
    "        if np.random.random() < self.epsilon:\n",
    "            # Explore by picking random arm when value less than epsilon\n",
    "            arm = random.choice(range(self.bandit.n))\n",
    "        else:\n",
    "            # Exploit by selecting the best arm so far\n",
    "            arm = max(range(self.bandit.n), key = lambda x: self.estimates[x])\n",
    "            \n",
    "        # Now, we pull the arm and get a reward, and then update theta estimate for the arm\n",
    "        reward = self.bandit.pull_arm(arm)\n",
    "        self.estimates[arm] += 1. / (self.counts[arm]+1) * (reward - self.estimates[arm])\n",
    "        return arm\n",
    "        "
   ]
  },
  {
   "cell_type": "markdown",
   "metadata": {},
   "source": [
    "#### 3.1 Reward Effect"
   ]
  },
  {
   "cell_type": "code",
   "execution_count": 19,
   "metadata": {},
   "outputs": [
    {
     "name": "stdout",
     "output_type": "stream",
     "text": [
      "===========\n",
      "rewards:  [0.01, 1, 40]\n",
      "reward_probs:  [0.3, 0.4, 0.5]\n",
      "Solver: EpsilonGreedy\n",
      "Cumulative regret (mean): 100.36000000000014; Cumulative regret (std): 4.358256532146786\n",
      "Actions per arm: [334.75, 334.1, 9331.15]\n",
      "===========\n",
      "rewards:  [50, 3, 0.02]\n",
      "reward_probs:  [0.3, 0.4, 0.5]\n",
      "Solver: EpsilonGreedy\n",
      "Cumulative regret (mean): 1899.580000000279; Cumulative regret (std): 3.2114794098683714\n",
      "Actions per arm: [9330.8, 334.2, 335.0]\n",
      "===========\n",
      "rewards:  [0.06, 400, 10]\n",
      "reward_probs:  [0.3, 0.4, 0.5]\n",
      "Solver: EpsilonGreedy\n",
      "Cumulative regret (mean): 1000.3850000001545; Cumulative regret (std): 3.0841976266126583\n",
      "Actions per arm: [334.05, 9335.75, 330.2]\n",
      "===========\n",
      "rewards:  [10, 0.1, 100]\n",
      "reward_probs:  [0.3, 0.4, 0.5]\n",
      "Solver: EpsilonGreedy\n",
      "Cumulative regret (mean): 101.97500000000012; Cumulative regret (std): 4.301496832499124\n",
      "Actions per arm: [343.4, 332.95, 9323.65]\n",
      "===========\n",
      "rewards:  [30, 0.01, 800]\n",
      "reward_probs:  [0.3, 0.4, 0.5]\n",
      "Solver: EpsilonGreedy\n",
      "Cumulative regret (mean): 101.08500000000008; Cumulative regret (std): 3.211740182517842\n",
      "Actions per arm: [335.6, 339.65, 9324.75]\n"
     ]
    }
   ],
   "source": [
    "# Reward Effects\n",
    "reward_lists = [\n",
    "    [0.01, 1, 40],\n",
    "    [50, 3, 0.02],\n",
    "    [0.06, 400, 10],\n",
    "    [10, 0.1, 100],\n",
    "    [30, 0.01, 800]\n",
    "]\n",
    "for i in range(5):\n",
    "    print('===========')\n",
    "    rewards = reward_lists[i]\n",
    "    reward_probs = [0.3, 0.4, 0.5]\n",
    "    print('rewards: ', rewards)\n",
    "    print('reward_probs: ', reward_probs)\n",
    "    bandit = Bandit(3, reward_probs, rewards)\n",
    "    epsilon_greedy_solver = EpsilonGreedy(bandit, 0.1) # epsilon = 0.1 => explore 10% and exploit 90%\n",
    "    run_solver(epsilon_greedy_solver)"
   ]
  },
  {
   "cell_type": "markdown",
   "metadata": {},
   "source": [
    "#### 3.2 Discussion\n",
    "This solver is related to rewards. When the reward of one arm is much more larger than other arms, although the reward probability of the arm is lower, it can be selected more times. As a result, the reward and reward probability jointly influence the results. The greater their multiplicative value, the greater the effect on the result."
   ]
  },
  {
   "cell_type": "markdown",
   "metadata": {},
   "source": [
    "### 4. UCB1 "
   ]
  },
  {
   "cell_type": "code",
   "execution_count": 20,
   "metadata": {},
   "outputs": [],
   "source": [
    "class UCB1(Solver):\n",
    "    def __init__(self, bandit, init_theta = 1.0):\n",
    "        # Initial thetas optimistically set to 1.0\n",
    "        super(UCB1, self).__init__(bandit)\n",
    "        self.t = 0 # Timestep\n",
    "        self.estimates = [init_theta]*self.bandit.n\n",
    "        self.name = \"UCB1\"\n",
    "        \n",
    "    @property\n",
    "    def estimated_thetas(self):\n",
    "        return self.estimates\n",
    "    \n",
    "    def run_one_step(self):\n",
    "        self.t += 1\n",
    "        \n",
    "        #Pick the best arm using UCB, pull and get reward\n",
    "        arm = max(range(self.bandit.n),\n",
    "                  key = lambda x: self.estimates[x] + np.sqrt(2*np.log(self.t)/(1+self.counts[x])))\n",
    "        reward = self.bandit.pull_arm(arm)\n",
    "        #Update theta estimate for arm\n",
    "        self.estimates[arm] += 1./(self.counts[arm]+1) * (reward - self.estimates[arm])\n",
    "        \n",
    "        return arm"
   ]
  },
  {
   "cell_type": "markdown",
   "metadata": {},
   "source": [
    "#### 4.1 Reward Effect"
   ]
  },
  {
   "cell_type": "code",
   "execution_count": 21,
   "metadata": {},
   "outputs": [
    {
     "name": "stdout",
     "output_type": "stream",
     "text": [
      "===========\n",
      "rewards:  [2, 3, 1000]\n",
      "reward_probs:  [0.3, 0.4, 0.5]\n",
      "Solver: UCB1\n",
      "Cumulative regret (mean): 0.11499999999999999; Cumulative regret (std): 0.5012733785071775\n",
      "Actions per arm: [0.4, 0.35, 9999.25]\n",
      "===========\n",
      "rewards:  [1, 100, 1000]\n",
      "reward_probs:  [0.3, 0.4, 0.5]\n",
      "Solver: UCB1\n",
      "Cumulative regret (mean): 0.015; Cumulative regret (std): 0.0653834841531101\n",
      "Actions per arm: [0.05, 0.05, 9999.9]\n",
      "===========\n",
      "rewards:  [40, 40, 40]\n",
      "reward_probs:  [0.3, 0.4, 0.5]\n",
      "Solver: UCB1\n",
      "Cumulative regret (mean): 1000.005000000159; Cumulative regret (std): 0.02179449471770832\n",
      "Actions per arm: [0.05, 9999.95, 0.0]\n",
      "===========\n",
      "rewards:  [1, 999, 1000]\n",
      "reward_probs:  [0.3, 0.4, 0.5]\n",
      "Solver: UCB1\n",
      "Cumulative regret (mean): 0.015; Cumulative regret (std): 0.0653834841531101\n",
      "Actions per arm: [0.05, 0.05, 9999.9]\n",
      "===========\n",
      "rewards:  [50, 60, 70]\n",
      "reward_probs:  [0.3, 0.4, 0.5]\n",
      "Solver: UCB1\n",
      "Cumulative regret (mean): 2000.0000000003179; Cumulative regret (std): 2.2737367544323206e-13\n",
      "Actions per arm: [10000.0, 0.0, 0.0]\n"
     ]
    }
   ],
   "source": [
    "# Reward Effects\n",
    "reward_lists = [\n",
    "    [2, 3, 1000],\n",
    "    [1, 100, 1000],\n",
    "    [40, 40, 40],\n",
    "    [1, 999, 1000],\n",
    "    [50, 60, 70]\n",
    "]\n",
    "\n",
    "for i in range(5):\n",
    "    print('===========')\n",
    "    rewards = reward_lists[i]\n",
    "    reward_probs = [0.3, 0.4, 0.5]\n",
    "    print('rewards: ', rewards)\n",
    "    print('reward_probs: ', reward_probs)\n",
    "    bandit = Bandit(3, reward_probs, rewards)\n",
    "    ucb_solver = UCB1(bandit)\n",
    "    run_solver(ucb_solver)"
   ]
  },
  {
   "cell_type": "markdown",
   "metadata": {},
   "source": [
    "#### 4.2 Discussion\n",
    "From the result, it's hard to judge how the rewards influence the final solusion. If the optinal arm has much larger reward than another two arms, it's most likely to be selected each time. But if the reward difference is not obvious or not large enough, the uncertainty of arms is increasing, so that another two arms can also be selected multiple times. At the same time, the cumulative regret will increase dramatically. According to this solver, in addition to those which set large disparity rewards, all options will be selected many times for experiment. Different rewards will make the selection more complicated.  "
   ]
  },
  {
   "cell_type": "code",
   "execution_count": 22,
   "metadata": {
    "slideshow": {
     "slide_type": "subslide"
    }
   },
   "outputs": [],
   "source": [
    "class ThomsonSampling(Solver):\n",
    "    def __init__(self, bandit, init_alpha=1, init_beta=1):\n",
    "        \"\"\"\n",
    "        init_alpha (int): initial value of alpha in Beta(alpha, beta).\n",
    "        init_beta (int): initial value of beta in Beta(alpha, beta).\n",
    "        \"\"\"\n",
    "        super(ThomsonSampling, self).__init__(bandit)\n",
    "        self._alphas = [init_alpha]*self.bandit.n\n",
    "        self._betas = [init_beta]*self.bandit.n\n",
    "        self.name = \"Thomson Sampling\"\n",
    "        \n",
    "    @property\n",
    "    def estimated_thetas(self):\n",
    "        return [self._alphas[i]/(self._alphas[i] + self._betas[i]) for i in range(self.bandit.n)]\n",
    "    \n",
    "    def run_one_step(self):\n",
    "        # Get sample for each arm from beta distribution \n",
    "        samples = [np.random.beta(self._alphas[i], self._betas[i]) for i in range(self.bandit.n)]\n",
    "        \n",
    "        # Select best arm and get reward by pulling it\n",
    "        arm = max(range(self.bandit.n), key=lambda x: samples[x]) # Get arm with highest sample value\n",
    "        reward = self.bandit.pull_arm(arm)\n",
    "        \n",
    "        # Update alpha and beta for arm\n",
    "#         self._alphas[arm] += reward # Increment alpha by 1 if reward received\n",
    "#         self._betas[arm] += (1 - reward) # Increment beta by 1 if no reward received\n",
    "        if reward:\n",
    "            self._alphas[arm] += 1\n",
    "        else:\n",
    "            self._betas[arm] += 1\n",
    "        \n",
    "        return arm"
   ]
  },
  {
   "cell_type": "markdown",
   "metadata": {},
   "source": [
    "#### 5.1 Reward Effects"
   ]
  },
  {
   "cell_type": "code",
   "execution_count": 23,
   "metadata": {},
   "outputs": [
    {
     "name": "stdout",
     "output_type": "stream",
     "text": [
      "===========\n",
      "rewards:  [2, 3, 1000]\n",
      "reward_probs:  [0.3, 0.4, 0.5]\n",
      "Solver: Thomson Sampling\n",
      "Cumulative regret (mean): 2.995000000000002; Cumulative regret (std): 6.606245151370037\n",
      "Actions per arm: [4.8, 20.35, 9974.85]\n",
      "===========\n",
      "rewards:  [1, 100, 1000]\n",
      "reward_probs:  [0.3, 0.4, 0.5]\n",
      "Solver: Thomson Sampling\n",
      "Cumulative regret (mean): 2.1700000000000035; Cumulative regret (std): 6.542484237657754\n",
      "Actions per arm: [4.6, 12.5, 9982.9]\n",
      "===========\n",
      "rewards:  [40, 40, 40]\n",
      "reward_probs:  [0.3, 0.4, 0.5]\n",
      "Solver: Thomson Sampling\n",
      "Cumulative regret (mean): 2.2449999999999983; Cumulative regret (std): 5.052373204742491\n",
      "Actions per arm: [6.55, 9.35, 9984.1]\n",
      "===========\n",
      "rewards:  [1, 999, 1000]\n",
      "reward_probs:  [0.3, 0.4, 0.5]\n",
      "Solver: Thomson Sampling\n",
      "Cumulative regret (mean): 1.565000000000002; Cumulative regret (std): 4.87814257684214\n",
      "Actions per arm: [3.55, 8.55, 9987.9]\n",
      "===========\n",
      "rewards:  [50, 60, 70]\n",
      "reward_probs:  [0.3, 0.4, 0.5]\n",
      "Solver: Thomson Sampling\n",
      "Cumulative regret (mean): 6.934999999999825; Cumulative regret (std): 30.228964173453804\n",
      "Actions per arm: [8.85, 51.65, 9939.5]\n"
     ]
    }
   ],
   "source": [
    "# Reward Effects\n",
    "reward_lists = [\n",
    "    [2, 3, 1000],\n",
    "    [1, 100, 1000],\n",
    "    [40, 40, 40],\n",
    "    [1, 999, 1000],\n",
    "    [50, 60, 70]\n",
    "]\n",
    "\n",
    "for i in range(5):\n",
    "    print('===========')\n",
    "    rewards = reward_lists[i]\n",
    "    reward_probs = [0.3, 0.4, 0.5]\n",
    "    print('rewards: ', rewards)\n",
    "    print('reward_probs: ', reward_probs)\n",
    "    bandit = Bandit(3, reward_probs, rewards)\n",
    "    thomson_solver = ThomsonSampling(bandit)\n",
    "    run_solver(thomson_solver)"
   ]
  },
  {
   "cell_type": "markdown",
   "metadata": {},
   "source": [
    "#### 5.2 Discussion\n",
    "From this result, we can see this solver is more stable. The optimal arm can be selected in most times and the cumulative regret is quite low. The regret won't influence the result, because when getting reward, the alpha adds 1, otherwise the beta adds 1 (I modified the code). Thus the concret number of reward doesn't make any difference."
   ]
  },
  {
   "cell_type": "markdown",
   "metadata": {
    "slideshow": {
     "slide_type": "slide"
    }
   },
   "source": [
    "## Compare the solvers"
   ]
  },
  {
   "cell_type": "markdown",
   "metadata": {
    "slideshow": {
     "slide_type": "subslide"
    }
   },
   "source": [
    "We now compare the solvers by running the experiment and printing the mean cumulative regret and standard deviation."
   ]
  },
  {
   "cell_type": "code",
   "execution_count": 24,
   "metadata": {
    "slideshow": {
     "slide_type": "subslide"
    }
   },
   "outputs": [
    {
     "name": "stdout",
     "output_type": "stream",
     "text": [
      "===========\n",
      "rewards:  [0.01, 1, 40]\n",
      "reward_probs:  [0.3, 0.4, 0.5]\n"
     ]
    },
    {
     "data": {
      "image/png": "[encoded data removed]",
      "text/plain": [
       "<Figure size 432x288 with 1 Axes>"
      ]
     },
     "metadata": {
      "needs_background": "light"
     },
     "output_type": "display_data"
    },
    {
     "name": "stdout",
     "output_type": "stream",
     "text": [
      "===========\n",
      "rewards:  [50, 3, 0.02]\n",
      "reward_probs:  [0.3, 0.4, 0.5]\n"
     ]
    },
    {
     "data": {
      "image/png": "[encoded data removed]",
      "text/plain": [
       "<Figure size 432x288 with 1 Axes>"
      ]
     },
     "metadata": {
      "needs_background": "light"
     },
     "output_type": "display_data"
    },
    {
     "name": "stdout",
     "output_type": "stream",
     "text": [
      "===========\n",
      "rewards:  [0.06, 400, 10]\n",
      "reward_probs:  [0.3, 0.4, 0.5]\n"
     ]
    },
    {
     "data": {
      "image/png": "[encoded data removed]",
      "text/plain": [
       "<Figure size 432x288 with 1 Axes>"
      ]
     },
     "metadata": {
      "needs_background": "light"
     },
     "output_type": "display_data"
    },
    {
     "name": "stdout",
     "output_type": "stream",
     "text": [
      "===========\n",
      "rewards:  [10, 0.1, 100]\n",
      "reward_probs:  [0.3, 0.4, 0.5]\n"
     ]
    },
    {
     "data": {
      "image/png": "[encoded data removed]",
      "text/plain": [
       "<Figure size 432x288 with 1 Axes>"
      ]
     },
     "metadata": {
      "needs_background": "light"
     },
     "output_type": "display_data"
    },
    {
     "name": "stdout",
     "output_type": "stream",
     "text": [
      "===========\n",
      "rewards:  [30, 0.01, 80]\n",
      "reward_probs:  [0.3, 0.4, 0.5]\n"
     ]
    },
    {
     "data": {
      "image/png": "[encoded data removed]",
      "text/plain": [
       "<Figure size 432x288 with 1 Axes>"
      ]
     },
     "metadata": {
      "needs_background": "light"
     },
     "output_type": "display_data"
    }
   ],
   "source": [
    "def compare_solvers(bandit):\n",
    "    random_solver = Random(bandit)\n",
    "    greedy_solver = Greedy(bandit, random.choice(range(bandit.n)))\n",
    "    epsilon_greedy_solver = EpsilonGreedy(bandit, 0.1)\n",
    "    ucb_solver = UCB1(bandit)\n",
    "    thomson_solver = ThomsonSampling(bandit)\n",
    "    for solver in [random_solver, greedy_solver, epsilon_greedy_solver, ucb_solver, thomson_solver]:\n",
    "        run_solver(solver, print_log=False)\n",
    "        plt.plot(solver.regrets, label = solver.name)\n",
    "\n",
    "    plt.legend()\n",
    "    plt.xlabel('time step')\n",
    "    plt.ylabel('cumulative regret')\n",
    "    plt.show()\n",
    "    \n",
    "\n",
    "    \n",
    "# Reward Effects\n",
    "reward_lists = [\n",
    "    [0.01, 1, 40],\n",
    "    [50, 3, 0.02],\n",
    "    [0.06, 400, 10],\n",
    "    [10, 0.1, 100],\n",
    "    [30, 0.01, 80]\n",
    "]\n",
    "\n",
    "for i in range(5):\n",
    "    print('===========')\n",
    "    rewards = reward_lists[i]\n",
    "    reward_probs = [0.3, 0.4, 0.5]\n",
    "    print('rewards: ', rewards)\n",
    "    print('reward_probs: ', reward_probs)\n",
    "    bandit = Bandit(3, reward_probs, rewards)\n",
    "    compare_solvers(bandit)"
   ]
  },
  {
   "cell_type": "markdown",
   "metadata": {},
   "source": [
    "### Summarize\n",
    "\n",
    "In conclusion, the Thompson Solver has the best performance. And the Thompson Solver, the Random and Greedy solver are almost unaffected by the reward. The UCB1 and EpsilonGreedy solver are influenced much. The UCB1 and the EpsilonGreedy solver have better performance when the optimal arm has far larger reward than another two arms."
   ]
  },
  {
   "cell_type": "markdown",
   "metadata": {},
   "source": [
    "### Bonus:  Sample the reward from a distribution"
   ]
  },
  {
   "cell_type": "code",
   "execution_count": 25,
   "metadata": {},
   "outputs": [
    {
     "data": {
      "image/png": "[encoded data removed]",
      "text/plain": [
       "<Figure size 432x288 with 1 Axes>"
      ]
     },
     "metadata": {
      "needs_background": "light"
     },
     "output_type": "display_data"
    }
   ],
   "source": [
    "class Bandit():\n",
    "    def __init__(self, n, thetas):\n",
    "        assert n == len(thetas)\n",
    "        self.n = n # Number of arms\n",
    "        self.thetas = thetas # Reward probabilities\n",
    "        self.best_theta = max(self.thetas) # Reward probability of best arm\n",
    "    \n",
    "    def pull_arm(self, i):\n",
    "        mu, sigma = 1, 0.5 # mean and standard deviation\n",
    "        reward = abs(np.random.normal(mu, sigma, 1)[0]) # Gaussion distribution\n",
    "        return reward if np.random.random() < self.thetas[i] else 0\n",
    "        \n",
    "bandit = Bandit(3, [0.3,0.4,0.5])\n",
    "\n",
    "compare_solvers(bandit)"
   ]
  },
  {
   "cell_type": "markdown",
   "metadata": {},
   "source": [
    "When the reward obeys the Gaussion distribution, the result shows that the EpsilonGreedy, UCB1 and Thomson Sampling have good performance. The Random and the Greedy have more cumulative regret."
   ]
  },
  {
   "cell_type": "markdown",
   "metadata": {},
   "source": [
    "### 7.1.2  Create a variation of the ε-Greedy Solver"
   ]
  },
  {
   "cell_type": "markdown",
   "metadata": {},
   "source": [
    "#### Improvement Strategy\n",
    "\n",
    "If one arm is selected much more times, we could think that this arm may be the optimal choice, in this case, we could reduce the explore freqency gradualy.\n",
    "\n",
    "I set `max_count` to record the counts of every arm selected. If one arm is selected over 600 times, the epsilon will reduce by 0.01 each time.\n",
    "\n",
    "As a result, we could see that the number of exploration will reduce finally."
   ]
  },
  {
   "cell_type": "code",
   "execution_count": 66,
   "metadata": {},
   "outputs": [],
   "source": [
    "class Bandit():\n",
    "    def __init__(self, n, thetas):\n",
    "        assert n == len(thetas)\n",
    "        self.n = n # Number of arms\n",
    "        self.thetas = thetas # Reward probabilities\n",
    "        self.best_theta = max(self.thetas) # Reward probability of best arm\n",
    "    \n",
    "    def pull_arm(self, i):\n",
    "        # Function to pull an arm i and return a reward (0 or 1) with probability theta for i\n",
    "        return 1 if np.random.random() < self.thetas[i] else 0\n",
    "\n",
    "class EpsilonGreedy(Solver):\n",
    "    def __init__(self, bandit, epsilon, init_theta = 1.0, change_epsilon = False):\n",
    "        super(EpsilonGreedy, self).__init__(bandit)\n",
    "        self.name = \"EpsilonGreedy\"\n",
    "        assert 0 <= epsilon <= 1\n",
    "        self.epsilon = epsilon\n",
    "        self.estimates = [init_theta] * self.bandit.n\n",
    "        self.change_epsilon = change_epsilon\n",
    "        self.max_count = [0] * self.bandit.n\n",
    "        self.strategy_type = [0, 0]\n",
    "    \n",
    "    def estimated_thetas(self):\n",
    "        # Get theta estimates for all arms\n",
    "        return self.estimates\n",
    "    \n",
    "    def run_one_step(self):\n",
    "        # First, we need to decide whether to explore or exploit (based on epsilon)\n",
    "        max_count_arm = np.max(self.max_count)\n",
    "        if max_count_arm > 1000 and self.change_epsilon:\n",
    "            self.epsilon += -0.01\n",
    "        \n",
    "        if np.random.random() < self.epsilon:\n",
    "            # Explore by picking random arm when value less than epsilon\n",
    "            arm = random.choice(range(self.bandit.n))\n",
    "            self.strategy_type[0] += 1\n",
    "        else:\n",
    "            # Exploit by selecting the best arm so far\n",
    "            arm = max(range(self.bandit.n), key = lambda x: self.estimates[x])\n",
    "            self.strategy_type[1] += 1\n",
    "            \n",
    "        # Now, we pull the arm and get a reward, and then update theta estimate for the arm\n",
    "        reward = self.bandit.pull_arm(arm)\n",
    "        self.estimates[arm] += 1. / (self.counts[arm]+1) * (reward - self.estimates[arm])\n",
    "        \n",
    "        max_index = np.argmax(self.estimates)\n",
    "        self.max_count[max_index] += 1\n",
    "        \n",
    "        return arm"
   ]
  },
  {
   "cell_type": "code",
   "execution_count": 67,
   "metadata": {},
   "outputs": [
    {
     "name": "stdout",
     "output_type": "stream",
     "text": [
      "Solver: EpsilonGreedy\n",
      "Cumulative regret (mean): 101.8200000000001; Cumulative regret (std): 6.677843963436041\n",
      "Actions per arm: [341.85, 334.5, 9323.65]\n",
      "mean of max counts: [6.75, 1.2, 9992.05]\n",
      "mean of strategy selection counts: [999.55, 9000.45]\n",
      "====== reduce epsilon gradually\n",
      "Solver: EpsilonGreedy\n",
      "Cumulative regret (mean): 0.49999999999999956; Cumulative regret (std): 2.1794494717703348\n",
      "Actions per arm: [1.7, 1.6, 9996.7]\n",
      "mean of max counts: [0.1, 0.05, 9999.85]\n",
      "mean of strategy selection counts: [4.0, 9996.0]\n"
     ]
    }
   ],
   "source": [
    "bandit = bandit = Bandit(3, [0.3,0.4,0.5])\n",
    "epsilon_greedy_solver = EpsilonGreedy(bandit, 0.1) # epsilon = 0.1 => explore 10% and exploit 90%\n",
    "run_solver(epsilon_greedy_solver)\n",
    "max_count = epsilon_greedy_solver.max_count\n",
    "strategy_type_count = epsilon_greedy_solver.strategy_type\n",
    "print('mean of max counts:', [x/20 for x in max_count])\n",
    "print('mean of strategy selection counts:', [x/20 for x in strategy_type_count])\n",
    "\n",
    "print('====== reduce epsilon gradually')\n",
    "bandit = bandit = Bandit(3, [0.3,0.4,0.5])\n",
    "epsilon_greedy_solver = EpsilonGreedy(bandit, 0.1, change_epsilon = True) # epsilon = 0.1 => explore 10% and exploit 90%\n",
    "run_solver(epsilon_greedy_solver)\n",
    "max_count = epsilon_greedy_solver.max_count\n",
    "strategy_type_count = epsilon_greedy_solver.strategy_type\n",
    "print('mean of max counts:', [x/20 for x in max_count])\n",
    "print('mean of strategy selection counts:', [x/20 for x in strategy_type_count])"
   ]
  },
  {
   "cell_type": "markdown",
   "metadata": {},
   "source": [
    "The result shows that the solution is still the optimal one, but the exploration frequency reduces."
   ]
  },
  {
   "cell_type": "markdown",
   "metadata": {},
   "source": [
    "## A7.2 Design and Run an Online Experiment"
   ]
  },
  {
   "cell_type": "markdown",
   "metadata": {},
   "source": [
    "In my design project, I assume that we hope users to click the target button which may lead them to another page or another feature of our website. The problem is that we want to know which layouts will attract them to notice the button and want to click it. To simplify this project, I put four buttons together, they are 'Like it', 'Ordinary', 'Not bad', 'Bad'. Each time, the system will display different layouts. If users click the button 'Like it' in one layout, we could say that this layout attracts them more. "
   ]
  },
  {
   "cell_type": "code",
   "execution_count": 3,
   "metadata": {},
   "outputs": [],
   "source": [
    "styles = ['flex-start', 'flex-end', 'center', 'space-between', 'space-around'] #Different layouts\n",
    "class DesignDisplay():\n",
    "    def __init__(self, n):\n",
    "        self.n = n # Number of layout design\n",
    "    \n",
    "    def display_design(self, i, b_callback):\n",
    "        items_layout = Layout( width='auto')\n",
    "\n",
    "        box_layout = Layout(display='flex',\n",
    "                            flex_flow='row',\n",
    "                            align_items='center',\n",
    "                            justify_content=styles[i],\n",
    "                            border='solid',\n",
    "                            width='50%')\n",
    "\n",
    "        words = ['Like it', 'Ordinary', 'Not bad', 'Bad']\n",
    "        items = []\n",
    "        for word in words:\n",
    "            button = Button(\n",
    "                disabled=False,\n",
    "                description=word,\n",
    "                layout=items_layout,\n",
    "                button_style='danger'\n",
    "            )\n",
    "            button.on_click(b_callback) # b_callback will listen for button click events\n",
    "            items.append(button)\n",
    "\n",
    "        box = Box(children=items, layout=box_layout)\n",
    "        # show the box\n",
    "        display(box)\n",
    "        return box"
   ]
  },
  {
   "cell_type": "code",
   "execution_count": 4,
   "metadata": {},
   "outputs": [],
   "source": [
    "design = DesignDisplay(5)"
   ]
  },
  {
   "cell_type": "markdown",
   "metadata": {},
   "source": [
    "I choose the UCB1 solver to discover the optimal layout option."
   ]
  },
  {
   "cell_type": "code",
   "execution_count": 5,
   "metadata": {},
   "outputs": [],
   "source": [
    "class UCB1Solver():\n",
    "    def __init__(self, design, init_theta = 1.0):\n",
    "        np.random.seed(int(time.time()))\n",
    "        assert isinstance (design, DesignDisplay)\n",
    "        self.design = design\n",
    "        self.counts = [0] * design.n # Number of times each design displayed\n",
    "        self.actions = [] # Action history\n",
    "        self.t = 0 # Timestep\n",
    "        self.estimates = [init_theta]*self.design.n\n",
    "        self.name = \"UCB1\"\n",
    "        self.current_design = 0\n",
    "    \n",
    "    # Deal with the click events\n",
    "    def button_callback(self, target):\n",
    "        print('user clicked: ', target.description)\n",
    "        if target.description == 'Like it': # return 1 when click the target, otherwise 0\n",
    "            reward = 1\n",
    "        else:\n",
    "            reward = 0\n",
    "        #Update theta estimate for design\n",
    "        design_index = self.current_design\n",
    "        self.estimates[design_index] += 1./(self.counts[design_index]+1) * (reward - self.estimates[design_index])\n",
    "        \n",
    "    @property\n",
    "    def estimated_thetas(self):\n",
    "        return self.estimates\n",
    "    \n",
    "    # Generic function that performs one step, and returns index of arm pulled    \n",
    "    def run_one_step(self):\n",
    "        self.t += 1\n",
    "        \n",
    "        #Pick the best design using UCB, display and get reward\n",
    "        design = max(range(self.design.n),\n",
    "                  key = lambda x: self.estimates[x] + np.sqrt(2*np.log(self.t)/(1+self.counts[x])))\n",
    "        self.current_design = design\n",
    "        box = self.design.display_design(design, self.button_callback)\n",
    "\n",
    "        return design\n",
    "        \n",
    "    # Conduct one trial with given number of iterations (steps)       \n",
    "    def run(self, num_steps):\n",
    "        assert self.design is not None\n",
    "\n",
    "        for _ in range(num_steps):\n",
    "            i = self.run_one_step()\n",
    "            self.counts[i] += 1\n",
    "            self.actions.append(i)"
   ]
  },
  {
   "cell_type": "code",
   "execution_count": 6,
   "metadata": {},
   "outputs": [],
   "source": [
    "ucb_solver = UCB1Solver(design)"
   ]
  },
  {
   "cell_type": "code",
   "execution_count": 7,
   "metadata": {},
   "outputs": [],
   "source": [
    "def run_solver(solver):\n",
    "    ucb_solver.run(1)"
   ]
  },
  {
   "cell_type": "markdown",
   "metadata": {},
   "source": [
    "I'm going to click any of those buttons to simulate users' interaction. But to see when the solver will find the layout that users prefer, I will only click 'Like it' in the first layout, and click other buttons in other layouts. \n",
    "\n",
    "(Problem: I didn't find how to put the 'Toggle Design' button on the bottom. So it is a little inconvenient to click it when there are a large of layout sequences.)"
   ]
  },
  {
   "cell_type": "code",
   "execution_count": 8,
   "metadata": {},
   "outputs": [
    {
     "data": {
      "application/vnd.jupyter.widget-view+json": {
       "model_id": "171f8b561781433cb24360758e7e56bf",
       "version_major": 2,
       "version_minor": 0
      },
      "text/plain": [
       "Button(description='Toggle Design!', style=ButtonStyle())"
      ]
     },
     "metadata": {},
     "output_type": "display_data"
    },
    {
     "data": {
      "application/vnd.jupyter.widget-view+json": {
       "model_id": "9aeb40393739418ea58a3056100bd90f",
       "version_major": 2,
       "version_minor": 0
      },
      "text/plain": [
       "Box(children=(Button(button_style='danger', description='Like it', layout=Layout(width='auto'), style=ButtonSt…"
      ]
     },
     "metadata": {},
     "output_type": "display_data"
    },
    {
     "name": "stdout",
     "output_type": "stream",
     "text": [
      "user clicked:  Like it\n"
     ]
    },
    {
     "data": {
      "application/vnd.jupyter.widget-view+json": {
       "model_id": "f8c0bbc0342b474d8320fce8001211b9",
       "version_major": 2,
       "version_minor": 0
      },
      "text/plain": [
       "Box(children=(Button(button_style='danger', description='Like it', layout=Layout(width='auto'), style=ButtonSt…"
      ]
     },
     "metadata": {},
     "output_type": "display_data"
    },
    {
     "name": "stdout",
     "output_type": "stream",
     "text": [
      "user clicked:  Ordinary\n"
     ]
    },
    {
     "data": {
      "application/vnd.jupyter.widget-view+json": {
       "model_id": "8ec04070b5bb43aca306f4caa77db1f0",
       "version_major": 2,
       "version_minor": 0
      },
      "text/plain": [
       "Box(children=(Button(button_style='danger', description='Like it', layout=Layout(width='auto'), style=ButtonSt…"
      ]
     },
     "metadata": {},
     "output_type": "display_data"
    },
    {
     "name": "stdout",
     "output_type": "stream",
     "text": [
      "user clicked:  Not bad\n"
     ]
    },
    {
     "data": {
      "application/vnd.jupyter.widget-view+json": {
       "model_id": "669bf73d50594ebf90ff4aa98ebfd019",
       "version_major": 2,
       "version_minor": 0
      },
      "text/plain": [
       "Box(children=(Button(button_style='danger', description='Like it', layout=Layout(width='auto'), style=ButtonSt…"
      ]
     },
     "metadata": {},
     "output_type": "display_data"
    },
    {
     "name": "stdout",
     "output_type": "stream",
     "text": [
      "user clicked:  Bad\n"
     ]
    },
    {
     "data": {
      "application/vnd.jupyter.widget-view+json": {
       "model_id": "ebfcfc55e25b467fbee152f8070418f5",
       "version_major": 2,
       "version_minor": 0
      },
      "text/plain": [
       "Box(children=(Button(button_style='danger', description='Like it', layout=Layout(width='auto'), style=ButtonSt…"
      ]
     },
     "metadata": {},
     "output_type": "display_data"
    },
    {
     "name": "stdout",
     "output_type": "stream",
     "text": [
      "user clicked:  Not bad\n"
     ]
    },
    {
     "data": {
      "application/vnd.jupyter.widget-view+json": {
       "model_id": "87d1cb54db3a4fa387eef3c7758ea1d8",
       "version_major": 2,
       "version_minor": 0
      },
      "text/plain": [
       "Box(children=(Button(button_style='danger', description='Like it', layout=Layout(width='auto'), style=ButtonSt…"
      ]
     },
     "metadata": {},
     "output_type": "display_data"
    },
    {
     "name": "stdout",
     "output_type": "stream",
     "text": [
      "user clicked:  Like it\n"
     ]
    },
    {
     "data": {
      "application/vnd.jupyter.widget-view+json": {
       "model_id": "aed0b160de144e10974ac237a31644bc",
       "version_major": 2,
       "version_minor": 0
      },
      "text/plain": [
       "Box(children=(Button(button_style='danger', description='Like it', layout=Layout(width='auto'), style=ButtonSt…"
      ]
     },
     "metadata": {},
     "output_type": "display_data"
    },
    {
     "name": "stdout",
     "output_type": "stream",
     "text": [
      "user clicked:  Like it\n"
     ]
    },
    {
     "data": {
      "application/vnd.jupyter.widget-view+json": {
       "model_id": "1600de5ab1354e98ae9573773edf181c",
       "version_major": 2,
       "version_minor": 0
      },
      "text/plain": [
       "Box(children=(Button(button_style='danger', description='Like it', layout=Layout(width='auto'), style=ButtonSt…"
      ]
     },
     "metadata": {},
     "output_type": "display_data"
    },
    {
     "name": "stdout",
     "output_type": "stream",
     "text": [
      "user clicked:  Like it\n"
     ]
    },
    {
     "data": {
      "application/vnd.jupyter.widget-view+json": {
       "model_id": "b22b8587b6da4439967e8c507df8d4e4",
       "version_major": 2,
       "version_minor": 0
      },
      "text/plain": [
       "Box(children=(Button(button_style='danger', description='Like it', layout=Layout(width='auto'), style=ButtonSt…"
      ]
     },
     "metadata": {},
     "output_type": "display_data"
    },
    {
     "name": "stdout",
     "output_type": "stream",
     "text": [
      "user clicked:  Ordinary\n"
     ]
    },
    {
     "data": {
      "application/vnd.jupyter.widget-view+json": {
       "model_id": "25ea9e3286bf441aabbf98df43900e7b",
       "version_major": 2,
       "version_minor": 0
      },
      "text/plain": [
       "Box(children=(Button(button_style='danger', description='Like it', layout=Layout(width='auto'), style=ButtonSt…"
      ]
     },
     "metadata": {},
     "output_type": "display_data"
    },
    {
     "name": "stdout",
     "output_type": "stream",
     "text": [
      "user clicked:  Ordinary\n"
     ]
    },
    {
     "data": {
      "application/vnd.jupyter.widget-view+json": {
       "model_id": "894aa339940b47eaa7e031f8e3dce3d6",
       "version_major": 2,
       "version_minor": 0
      },
      "text/plain": [
       "Box(children=(Button(button_style='danger', description='Like it', layout=Layout(width='auto'), style=ButtonSt…"
      ]
     },
     "metadata": {},
     "output_type": "display_data"
    },
    {
     "name": "stdout",
     "output_type": "stream",
     "text": [
      "user clicked:  Not bad\n"
     ]
    },
    {
     "data": {
      "application/vnd.jupyter.widget-view+json": {
       "model_id": "40dc731374d54f5b8ea519d0754a6c11",
       "version_major": 2,
       "version_minor": 0
      },
      "text/plain": [
       "Box(children=(Button(button_style='danger', description='Like it', layout=Layout(width='auto'), style=ButtonSt…"
      ]
     },
     "metadata": {},
     "output_type": "display_data"
    },
    {
     "name": "stdout",
     "output_type": "stream",
     "text": [
      "user clicked:  Not bad\n"
     ]
    },
    {
     "data": {
      "application/vnd.jupyter.widget-view+json": {
       "model_id": "4f7b7dd5cb404d0f9d8e686e3f3e83ae",
       "version_major": 2,
       "version_minor": 0
      },
      "text/plain": [
       "Box(children=(Button(button_style='danger', description='Like it', layout=Layout(width='auto'), style=ButtonSt…"
      ]
     },
     "metadata": {},
     "output_type": "display_data"
    },
    {
     "name": "stdout",
     "output_type": "stream",
     "text": [
      "user clicked:  Like it\n"
     ]
    },
    {
     "data": {
      "application/vnd.jupyter.widget-view+json": {
       "model_id": "778d595534194a13ad71124b8d846573",
       "version_major": 2,
       "version_minor": 0
      },
      "text/plain": [
       "Box(children=(Button(button_style='danger', description='Like it', layout=Layout(width='auto'), style=ButtonSt…"
      ]
     },
     "metadata": {},
     "output_type": "display_data"
    },
    {
     "name": "stdout",
     "output_type": "stream",
     "text": [
      "user clicked:  Like it\n"
     ]
    },
    {
     "data": {
      "application/vnd.jupyter.widget-view+json": {
       "model_id": "3be543306f2343b2b16c1fab32122a3d",
       "version_major": 2,
       "version_minor": 0
      },
      "text/plain": [
       "Box(children=(Button(button_style='danger', description='Like it', layout=Layout(width='auto'), style=ButtonSt…"
      ]
     },
     "metadata": {},
     "output_type": "display_data"
    },
    {
     "name": "stdout",
     "output_type": "stream",
     "text": [
      "user clicked:  Like it\n"
     ]
    },
    {
     "data": {
      "application/vnd.jupyter.widget-view+json": {
       "model_id": "06a55c458324420e954ecf06a113cf58",
       "version_major": 2,
       "version_minor": 0
      },
      "text/plain": [
       "Box(children=(Button(button_style='danger', description='Like it', layout=Layout(width='auto'), style=ButtonSt…"
      ]
     },
     "metadata": {},
     "output_type": "display_data"
    },
    {
     "name": "stdout",
     "output_type": "stream",
     "text": [
      "user clicked:  Like it\n"
     ]
    },
    {
     "data": {
      "application/vnd.jupyter.widget-view+json": {
       "model_id": "d482a6cbd17f4d9cbd8f71e0b3036fa2",
       "version_major": 2,
       "version_minor": 0
      },
      "text/plain": [
       "Box(children=(Button(button_style='danger', description='Like it', layout=Layout(width='auto'), style=ButtonSt…"
      ]
     },
     "metadata": {},
     "output_type": "display_data"
    },
    {
     "name": "stdout",
     "output_type": "stream",
     "text": [
      "user clicked:  Like it\n"
     ]
    },
    {
     "data": {
      "application/vnd.jupyter.widget-view+json": {
       "model_id": "2db2643995c647cdaaa422bd0ed1c85e",
       "version_major": 2,
       "version_minor": 0
      },
      "text/plain": [
       "Box(children=(Button(button_style='danger', description='Like it', layout=Layout(width='auto'), style=ButtonSt…"
      ]
     },
     "metadata": {},
     "output_type": "display_data"
    },
    {
     "name": "stdout",
     "output_type": "stream",
     "text": [
      "user clicked:  Like it\n"
     ]
    },
    {
     "data": {
      "application/vnd.jupyter.widget-view+json": {
       "model_id": "e50d88a3c490467d82b18b4848bcc761",
       "version_major": 2,
       "version_minor": 0
      },
      "text/plain": [
       "Box(children=(Button(button_style='danger', description='Like it', layout=Layout(width='auto'), style=ButtonSt…"
      ]
     },
     "metadata": {},
     "output_type": "display_data"
    },
    {
     "name": "stdout",
     "output_type": "stream",
     "text": [
      "user clicked:  Ordinary\n"
     ]
    },
    {
     "data": {
      "application/vnd.jupyter.widget-view+json": {
       "model_id": "fa244f470de04ed0aa1d16cb93a6be4e",
       "version_major": 2,
       "version_minor": 0
      },
      "text/plain": [
       "Box(children=(Button(button_style='danger', description='Like it', layout=Layout(width='auto'), style=ButtonSt…"
      ]
     },
     "metadata": {},
     "output_type": "display_data"
    },
    {
     "name": "stdout",
     "output_type": "stream",
     "text": [
      "user clicked:  Not bad\n"
     ]
    },
    {
     "data": {
      "application/vnd.jupyter.widget-view+json": {
       "model_id": "ae8f6bcef3304bdebfff7b2e52403a5b",
       "version_major": 2,
       "version_minor": 0
      },
      "text/plain": [
       "Box(children=(Button(button_style='danger', description='Like it', layout=Layout(width='auto'), style=ButtonSt…"
      ]
     },
     "metadata": {},
     "output_type": "display_data"
    },
    {
     "name": "stdout",
     "output_type": "stream",
     "text": [
      "user clicked:  Bad\n"
     ]
    },
    {
     "data": {
      "application/vnd.jupyter.widget-view+json": {
       "model_id": "5ce9ab15032b492cacf330fc16c7d194",
       "version_major": 2,
       "version_minor": 0
      },
      "text/plain": [
       "Box(children=(Button(button_style='danger', description='Like it', layout=Layout(width='auto'), style=ButtonSt…"
      ]
     },
     "metadata": {},
     "output_type": "display_data"
    },
    {
     "name": "stdout",
     "output_type": "stream",
     "text": [
      "user clicked:  Ordinary\n"
     ]
    },
    {
     "data": {
      "application/vnd.jupyter.widget-view+json": {
       "model_id": "ebda01649b5b4f4bba56fbe63f4fd196",
       "version_major": 2,
       "version_minor": 0
      },
      "text/plain": [
       "Box(children=(Button(button_style='danger', description='Like it', layout=Layout(width='auto'), style=ButtonSt…"
      ]
     },
     "metadata": {},
     "output_type": "display_data"
    },
    {
     "name": "stdout",
     "output_type": "stream",
     "text": [
      "user clicked:  Like it\n"
     ]
    },
    {
     "data": {
      "application/vnd.jupyter.widget-view+json": {
       "model_id": "ec181bd35b044e86a93a9405c90e53bc",
       "version_major": 2,
       "version_minor": 0
      },
      "text/plain": [
       "Box(children=(Button(button_style='danger', description='Like it', layout=Layout(width='auto'), style=ButtonSt…"
      ]
     },
     "metadata": {},
     "output_type": "display_data"
    },
    {
     "name": "stdout",
     "output_type": "stream",
     "text": [
      "user clicked:  Like it\n"
     ]
    },
    {
     "data": {
      "application/vnd.jupyter.widget-view+json": {
       "model_id": "7a5cab4caf1a459ba2f6599398c6b97b",
       "version_major": 2,
       "version_minor": 0
      },
      "text/plain": [
       "Box(children=(Button(button_style='danger', description='Like it', layout=Layout(width='auto'), style=ButtonSt…"
      ]
     },
     "metadata": {},
     "output_type": "display_data"
    },
    {
     "name": "stdout",
     "output_type": "stream",
     "text": [
      "user clicked:  Like it\n"
     ]
    },
    {
     "data": {
      "application/vnd.jupyter.widget-view+json": {
       "model_id": "cecd0a0e55a24197aa3b1a366a57cc3b",
       "version_major": 2,
       "version_minor": 0
      },
      "text/plain": [
       "Box(children=(Button(button_style='danger', description='Like it', layout=Layout(width='auto'), style=ButtonSt…"
      ]
     },
     "metadata": {},
     "output_type": "display_data"
    },
    {
     "name": "stdout",
     "output_type": "stream",
     "text": [
      "user clicked:  Like it\n"
     ]
    },
    {
     "data": {
      "application/vnd.jupyter.widget-view+json": {
       "model_id": "5b8b8ac4798945ab9a694fcf24657a69",
       "version_major": 2,
       "version_minor": 0
      },
      "text/plain": [
       "Box(children=(Button(button_style='danger', description='Like it', layout=Layout(width='auto'), style=ButtonSt…"
      ]
     },
     "metadata": {},
     "output_type": "display_data"
    },
    {
     "name": "stdout",
     "output_type": "stream",
     "text": [
      "user clicked:  Like it\n"
     ]
    },
    {
     "data": {
      "application/vnd.jupyter.widget-view+json": {
       "model_id": "e2235717b0d94a4cacbae024eb33a202",
       "version_major": 2,
       "version_minor": 0
      },
      "text/plain": [
       "Box(children=(Button(button_style='danger', description='Like it', layout=Layout(width='auto'), style=ButtonSt…"
      ]
     },
     "metadata": {},
     "output_type": "display_data"
    },
    {
     "name": "stdout",
     "output_type": "stream",
     "text": [
      "user clicked:  Like it\n"
     ]
    },
    {
     "data": {
      "application/vnd.jupyter.widget-view+json": {
       "model_id": "d54be66795e9437d92d6865c898dee15",
       "version_major": 2,
       "version_minor": 0
      },
      "text/plain": [
       "Box(children=(Button(button_style='danger', description='Like it', layout=Layout(width='auto'), style=ButtonSt…"
      ]
     },
     "metadata": {},
     "output_type": "display_data"
    },
    {
     "name": "stdout",
     "output_type": "stream",
     "text": [
      "user clicked:  Like it\n"
     ]
    },
    {
     "data": {
      "application/vnd.jupyter.widget-view+json": {
       "model_id": "ca4108447a5a4be59574edcc8a0bc107",
       "version_major": 2,
       "version_minor": 0
      },
      "text/plain": [
       "Box(children=(Button(button_style='danger', description='Like it', layout=Layout(width='auto'), style=ButtonSt…"
      ]
     },
     "metadata": {},
     "output_type": "display_data"
    },
    {
     "name": "stdout",
     "output_type": "stream",
     "text": [
      "user clicked:  Like it\n"
     ]
    },
    {
     "data": {
      "application/vnd.jupyter.widget-view+json": {
       "model_id": "f23fde3823874e748eb4895dc78bd31e",
       "version_major": 2,
       "version_minor": 0
      },
      "text/plain": [
       "Box(children=(Button(button_style='danger', description='Like it', layout=Layout(width='auto'), style=ButtonSt…"
      ]
     },
     "metadata": {},
     "output_type": "display_data"
    },
    {
     "name": "stdout",
     "output_type": "stream",
     "text": [
      "user clicked:  Like it\n"
     ]
    },
    {
     "data": {
      "application/vnd.jupyter.widget-view+json": {
       "model_id": "8aa5e3fd9c3148e2ad8cfc9bea5647b9",
       "version_major": 2,
       "version_minor": 0
      },
      "text/plain": [
       "Box(children=(Button(button_style='danger', description='Like it', layout=Layout(width='auto'), style=ButtonSt…"
      ]
     },
     "metadata": {},
     "output_type": "display_data"
    }
   ],
   "source": [
    "run_button = widgets.Button(description=\"Toggle Design!\")\n",
    "run_button.on_click(run_solver)\n",
    "display(run_button)"
   ]
  },
  {
   "cell_type": "code",
   "execution_count": 9,
   "metadata": {},
   "outputs": [
    {
     "name": "stdout",
     "output_type": "stream",
     "text": [
      "Actions per design: [20, 3, 3, 3, 3]\n"
     ]
    }
   ],
   "source": [
    "action_count = [ucb_solver.actions.count(design) for design in range(design.n)]\n",
    "print(f\"Actions per design: {action_count}\")"
   ]
  },
  {
   "cell_type": "markdown",
   "metadata": {},
   "source": [
    "Discussion:  \n",
    "\n",
    "The layouts are displayed in the following order:\n",
    "\n",
    "1. five layouts appear in sequence\n",
    "2. the first layout appears three times\n",
    "3. another four layouts appear one time separately\n",
    "4. the first layout appears six times\n",
    "5. another four layouts appear one time separately\n",
    "6. the first layout appears ten times.\n",
    "\n",
    "The result represents that when users show obvious preferences, the UCB1 algorithm does a good job to catch users' decision and gives feedback to the system."
   ]
  },
  {
   "cell_type": "code",
   "execution_count": null,
   "metadata": {},
   "outputs": [],
   "source": []
  }
 ],
 "metadata": {
  "kernelspec": {
   "display_name": "Python 3",
   "language": "python",
   "name": "python3"
  },
  "language_info": {
   "codemirror_mode": {
    "name": "ipython",
    "version": 3
   },
   "file_extension": ".py",
   "mimetype": "text/x-python",
   "name": "python",
   "nbconvert_exporter": "python",
   "pygments_lexer": "ipython3",
   "version": "3.8.0"
  }
 },
 "nbformat": 4,
 "nbformat_minor": 2
}
